{
 "cells": [
  {
   "cell_type": "code",
   "execution_count": 1,
   "id": "initial_id",
   "metadata": {
    "ExecuteTime": {
     "end_time": "2024-03-19T09:15:02.507946Z",
     "start_time": "2024-03-19T09:15:01.655542Z"
    }
   },
   "outputs": [],
   "source": [
    "import torch\n",
    "import torch.nn as nn\n",
    "import torch.nn.functional as F\n",
    "from torchvision import datasets, transforms\n",
    "from torch.utils.data.sampler import SubsetRandomSampler\n",
    "import numpy as np\n",
    "import torch.optim as optim\n",
    "from torch.optim.lr_scheduler import ExponentialLR\n",
    "\n",
    "import os\n",
    "import json\n",
    "from tqdm import tqdm"
   ]
  },
  {
   "cell_type": "code",
   "execution_count": 3,
   "id": "c6eb0b2d839934e",
   "metadata": {
    "ExecuteTime": {
     "end_time": "2024-03-19T09:15:02.961099Z",
     "start_time": "2024-03-19T09:15:02.954036Z"
    },
    "collapsed": false,
    "jupyter": {
     "outputs_hidden": false
    }
   },
   "outputs": [],
   "source": [
    "from customResNet import setup_custom_resnet\n",
    "from MLP import create_mlp_model\n",
    "from leNet import create_lenet\n",
    "from alexNet import create_AlexNet\n",
    "from VGG import create_vggcustommodel\n",
    "from cnnModel import create_cnn_model\n",
    "from myCNN import create_my_cnn_model"
   ]
  },
  {
   "cell_type": "code",
   "execution_count": 4,
   "id": "e595fdfb5e441497",
   "metadata": {
    "ExecuteTime": {
     "end_time": "2024-03-19T09:15:04.155845Z",
     "start_time": "2024-03-19T09:15:04.128961Z"
    },
    "collapsed": false,
    "jupyter": {
     "outputs_hidden": false
    }
   },
   "outputs": [],
   "source": [
    "transform = transforms.Compose([\n",
    "    transforms.Resize((224, 224)),  # Resize the image to 32x32\n",
    "    transforms.RandomHorizontalFlip(),  # Randomly flip the images horizontally\n",
    "    transforms.RandomAffine(0, shear=10, scale=(0.8, 1.2)),  # Randomly apply affine transformations: shearing and scaling\n",
    "    transforms.ToTensor(),  # Convert images to PyTorch tensors\n",
    "    transforms.Normalize((0.5, 0.5, 0.5), (0.5, 0.5, 0.5))  # Normalize the tensors\n",
    "])\n",
    "\n",
    "\n",
    "# Load the dataset\n",
    "dataset = datasets.ImageFolder('/Users/kapil/.keras/datasets/flower_photos', transform = transform)\n",
    "\n",
    "# Splitting the dataset\n",
    "length_of_dataset = len(dataset)\n",
    "total_indices = list(range(length_of_dataset))\n",
    "first_split = int(np.floor(0.6 * length_of_dataset))  # 60% of the data for training\n",
    "second_split = int(np.floor(0.8 * length_of_dataset))  # Additional 20% for validation, total 80%\n",
    "\n",
    "np.random.seed(40)\n",
    "np.random.shuffle(total_indices)\n",
    "\n",
    "train_indices = total_indices[:first_split]\n",
    "validation_indices = total_indices[first_split:second_split]\n",
    "test_indices = total_indices[second_split:]\n",
    "\n",
    "train_sampler = SubsetRandomSampler(train_indices)\n",
    "validation_sampler = SubsetRandomSampler(validation_indices)\n",
    "test_sampler = SubsetRandomSampler(test_indices)\n",
    "\n",
    "train_loader = torch.utils.data.DataLoader(dataset, batch_size=64, sampler=train_sampler)\n",
    "validation_loader = torch.utils.data.DataLoader(dataset, batch_size=64, sampler=validation_sampler)\n",
    "test_loader = torch.utils.data.DataLoader(dataset, batch_size=64, sampler=test_sampler)"
   ]
  },
  {
   "cell_type": "code",
   "execution_count": 5,
   "id": "5165bde1f297ea6c",
   "metadata": {
    "ExecuteTime": {
     "end_time": "2024-03-19T09:15:07.533700Z",
     "start_time": "2024-03-19T09:15:07.515946Z"
    },
    "collapsed": false,
    "jupyter": {
     "outputs_hidden": false
    }
   },
   "outputs": [
    {
     "name": "stdout",
     "output_type": "stream",
     "text": [
      "mps\n"
     ]
    }
   ],
   "source": [
    "device = torch.device(\"mps\" if torch.backends.mps.is_available() else \"cpu\")\n",
    "print(device)"
   ]
  },
  {
   "cell_type": "code",
   "execution_count": 6,
   "id": "aab69d3aa60fd413",
   "metadata": {
    "ExecuteTime": {
     "end_time": "2024-03-19T09:15:08.761573Z",
     "start_time": "2024-03-19T09:15:08.755942Z"
    },
    "collapsed": false,
    "jupyter": {
     "outputs_hidden": false
    }
   },
   "outputs": [],
   "source": [
    "def train_model(model, criterion, optimizer, number_of_epochs):\n",
    "    # Initialize lists to monitor training and validation loss\n",
    "    train_losses = []\n",
    "    validation_losses = []\n",
    "    \n",
    "    for epoch in range(1, number_of_epochs + 1):\n",
    "        # Training phase\n",
    "        model.train()\n",
    "        train_loss = 0.0\n",
    "        # Wrap the train_loader with tqdm for a progress bar\n",
    "        train_loader_tqdm = tqdm(train_loader, desc=f'Epoch {epoch}/{number_of_epochs} [Training]')\n",
    "        for data, target in train_loader_tqdm:\n",
    "            data, target = data.to(device), target.to(device)\n",
    "            optimizer.zero_grad()\n",
    "            output = model(data)\n",
    "            loss = criterion(output, target)\n",
    "            loss.backward()\n",
    "            optimizer.step()\n",
    "            train_loss += loss.item() * data.size(0)  # Multiply by batch size to accumulate total loss\n",
    "            train_loader_tqdm.set_postfix(loss=loss.item())  # Optionally update the progress bar with the current loss\n",
    "        \n",
    "        # Validation phase\n",
    "        model.eval()\n",
    "        validation_loss = 0.0\n",
    "        # Wrap the validation_loader with tqdm for a progress bar\n",
    "        validation_loader_tqdm = tqdm(validation_loader, desc=f'Epoch {epoch}/{number_of_epochs} [Validation]')\n",
    "        with torch.no_grad():\n",
    "            for data, target in validation_loader_tqdm:\n",
    "                data, target = data.to(device), target.to(device)\n",
    "                output = model(data)\n",
    "                loss = criterion(output, target)\n",
    "                validation_loss += loss.item() * data.size(0)  # Multiply by batch size to accumulate total loss\n",
    "                validation_loader_tqdm.set_postfix(loss=loss.item())  # Optionally update the progress bar with the current loss\n",
    "        \n",
    "        # Calculate average losses\n",
    "        train_loss = train_loss / len(train_loader.dataset)  # Divide by total number of samples\n",
    "        validation_loss = validation_loss / len(validation_loader.dataset)  # Divide by total number of samples\n",
    "        \n",
    "        # Append losses to lists for each epoch\n",
    "        train_losses.append(train_loss)\n",
    "        validation_losses.append(validation_loss)\n",
    "        \n",
    "        # Print training and validation statistics\n",
    "        print(f'\\nEpoch: {epoch} \\tTraining Loss: {train_loss:.6f} \\tValidation Loss: {validation_loss:.6f}')\n",
    "    \n",
    "    # Return the lists of losses\n",
    "    return [train_losses[-1], validation_losses[-1]]"
   ]
  },
  {
   "cell_type": "code",
   "execution_count": 7,
   "id": "ece8ade3d18bf59a",
   "metadata": {
    "ExecuteTime": {
     "end_time": "2024-03-19T09:15:09.666374Z",
     "start_time": "2024-03-19T09:15:09.659263Z"
    },
    "collapsed": false,
    "jupyter": {
     "outputs_hidden": false
    }
   },
   "outputs": [],
   "source": [
    "def test_model(model, criterion, model_name, results, loss):\n",
    "    train_loss, validation_loss = loss[0], loss[1]\n",
    "    test_loss = 0.0\n",
    "    class_correct = list(0. for i in range(5))\n",
    "    class_total = list(0. for i in range(5))\n",
    "\n",
    "    model.eval() # Prepare model for evaluation\n",
    "\n",
    "    for data, target in test_loader:\n",
    "        data, target = data.to(device), target.to(device)\n",
    "        output = model(data)\n",
    "        loss = criterion(output, target)\n",
    "        test_loss += loss.item() * data.size(0)\n",
    "        _, pred = torch.max(output, 1)\n",
    "        correct = np.squeeze(pred.eq(target.data.view_as(pred)))\n",
    "\n",
    "        # Calculate correct predictions for each class\n",
    "        for i in range(len(target)):\n",
    "            label = target.data[i]\n",
    "            class_correct[label] += correct[i].item()\n",
    "            class_total[label] += 1\n",
    "\n",
    "    # Calculate and print avg test loss\n",
    "    classes = ['daisy', 'dandelion', 'roses', 'sunflowers', 'tulips']\n",
    "\n",
    "    # Calculate and print avg test loss\n",
    "    test_loss = test_loss / len(test_loader.dataset)\n",
    "    # print('Test Loss: {:.6f}\\n'.format(test_loss))\n",
    "\n",
    "    for i in range(5):  # Adjusted to iterate through all 5 classes\n",
    "        if class_total[i] > 0:\n",
    "            print(f\"Test Accuracy of {classes[i]}: {100 * class_correct[i] / class_total[i]:2.0f}% ({np.sum(class_correct[i]):2.0f}/{np.sum(class_total[i]):2.0f})\")\n",
    "\n",
    "        else:\n",
    "            print(f\"Test Accuracy of {classes[i]:>10}: N/A (no training examples)\")\n",
    "\n",
    "    overall_accuracy = 100. * np.sum(class_correct) / np.sum(class_total)\n",
    "\n",
    "    # Update the results dictionary correctly for all five classes\n",
    "    results[model_name] = {\n",
    "        'daisy_accuracy': 100 * class_correct[0] / class_total[0] if class_total[0] > 0 else 0,\n",
    "        'dandelion_accuracy': 100 * class_correct[1] / class_total[1] if class_total[1] > 0 else 0,\n",
    "        'roses_accuracy': 100 * class_correct[2] / class_total[2] if class_total[2] > 0 else 0,\n",
    "        'sunflowers_accuracy': 100 * class_correct[3] / class_total[3] if class_total[3] > 0 else 0,\n",
    "        'tulips_accuracy': 100 * class_correct[4] / class_total[4] if class_total[4] > 0 else 0,\n",
    "        'overall_accuracy': overall_accuracy,\n",
    "        'test_loss': test_loss,\n",
    "        'train_loss': train_loss,\n",
    "        'validation_loss': validation_loss\n",
    "    }\n",
    "\n",
    "    # print(f\"Results for CNN_Model1\")\n",
    "    print(f\"Overall Accuracy: {overall_accuracy:.2f}%\")\n",
    "    print(f\"Test Loss: {test_loss:.6f}\")"
   ]
  },
  {
   "cell_type": "code",
   "execution_count": 8,
   "id": "45a4464bbd5a3108",
   "metadata": {
    "ExecuteTime": {
     "end_time": "2024-03-19T09:15:10.830678Z",
     "start_time": "2024-03-19T09:15:10.826223Z"
    },
    "collapsed": false,
    "jupyter": {
     "outputs_hidden": false
    }
   },
   "outputs": [],
   "source": [
    "def save_results_to_file(model_name, results, results_file='test_results.txt'):\n",
    "    # Check if the results file already exists\n",
    "    if os.path.isfile(results_file):\n",
    "        # File exists, load the existing data and update it\n",
    "        with open(results_file, 'r') as file:\n",
    "            existing_results = json.load(file)\n",
    "    else:\n",
    "        # File does not exist, create a new dictionary to hold the results\n",
    "        existing_results = {}\n",
    "\n",
    "    # Update the existing results with the new results\n",
    "    existing_results[model_name] = results[model_name]\n",
    "\n",
    "    # Save the updated results back to the file\n",
    "    with open(results_file, 'w') as file:\n",
    "        json.dump(existing_results, file, indent=4)\n",
    "\n",
    "    print(f\"Results for {model_name} have been updated in {results_file}.\")"
   ]
  },
  {
   "cell_type": "code",
   "execution_count": 9,
   "id": "d88e723e1eab8e62",
   "metadata": {
    "ExecuteTime": {
     "end_time": "2024-03-19T09:15:11.434787Z",
     "start_time": "2024-03-19T09:15:11.432536Z"
    },
    "collapsed": false,
    "jupyter": {
     "outputs_hidden": false
    }
   },
   "outputs": [],
   "source": [
    "results = {}"
   ]
  },
  {
   "cell_type": "code",
   "execution_count": 30,
   "id": "523a73468efe573d",
   "metadata": {
    "ExecuteTime": {
     "end_time": "2024-03-19T06:59:40.809908Z",
     "start_time": "2024-03-19T06:50:31.140622Z"
    },
    "collapsed": false,
    "jupyter": {
     "outputs_hidden": false
    }
   },
   "outputs": [
    {
     "name": "stdout",
     "output_type": "stream",
     "text": [
      "CNN_model(\n",
      "  (conv1): Conv2d(3, 16, kernel_size=(3, 3), stride=(1, 1), padding=(1, 1))\n",
      "  (conv2): Conv2d(16, 32, kernel_size=(3, 3), stride=(1, 1), padding=(1, 1))\n",
      "  (conv3): Conv2d(32, 64, kernel_size=(3, 3), stride=(1, 1), padding=(1, 1))\n",
      "  (pool): MaxPool2d(kernel_size=2, stride=2, padding=0, dilation=1, ceil_mode=False)\n",
      "  (fc1): Linear(in_features=50176, out_features=500, bias=True)\n",
      "  (fc2): Linear(in_features=500, out_features=5, bias=True)\n",
      "  (dropout): Dropout(p=0.25, inplace=False)\n",
      ")\n"
     ]
    },
    {
     "name": "stderr",
     "output_type": "stream",
     "text": [
      "Epoch 1/25 [Training]: 100%|████████████████████████████████████████████████████████████████████████████████████████████████████| 35/35 [00:11<00:00,  2.93it/s, loss=1.05]\n",
      "Epoch 1/25 [Validation]: 100%|██████████████████████████████████████████████████████████████████████████████████████████████████| 12/12 [00:02<00:00,  5.05it/s, loss=1.24]\n"
     ]
    },
    {
     "name": "stdout",
     "output_type": "stream",
     "text": [
      "\n",
      "Epoch: 1 \tTraining Loss: 0.828718 \tValidation Loss: 0.224907\n"
     ]
    },
    {
     "name": "stderr",
     "output_type": "stream",
     "text": [
      "Epoch 2/25 [Training]: 100%|████████████████████████████████████████████████████████████████████████████████████████████████████| 35/35 [00:10<00:00,  3.26it/s, loss=1.09]\n",
      "Epoch 2/25 [Validation]: 100%|██████████████████████████████████████████████████████████████████████████████████████████████████| 12/12 [00:02<00:00,  4.85it/s, loss=1.07]\n"
     ]
    },
    {
     "name": "stdout",
     "output_type": "stream",
     "text": [
      "\n",
      "Epoch: 2 \tTraining Loss: 0.636479 \tValidation Loss: 0.208974\n"
     ]
    },
    {
     "name": "stderr",
     "output_type": "stream",
     "text": [
      "Epoch 3/25 [Training]: 100%|████████████████████████████████████████████████████████████████████████████████████████████████████| 35/35 [00:10<00:00,  3.25it/s, loss=1.32]\n",
      "Epoch 3/25 [Validation]: 100%|█████████████████████████████████████████████████████████████████████████████████████████████████| 12/12 [00:02<00:00,  5.12it/s, loss=0.766]\n"
     ]
    },
    {
     "name": "stdout",
     "output_type": "stream",
     "text": [
      "\n",
      "Epoch: 3 \tTraining Loss: 0.584871 \tValidation Loss: 0.193755\n"
     ]
    },
    {
     "name": "stderr",
     "output_type": "stream",
     "text": [
      "Epoch 4/25 [Training]: 100%|████████████████████████████████████████████████████████████████████████████████████████████████████| 35/35 [00:11<00:00,  3.09it/s, loss=1.03]\n",
      "Epoch 4/25 [Validation]: 100%|█████████████████████████████████████████████████████████████████████████████████████████████████| 12/12 [00:02<00:00,  4.84it/s, loss=0.887]\n"
     ]
    },
    {
     "name": "stdout",
     "output_type": "stream",
     "text": [
      "\n",
      "Epoch: 4 \tTraining Loss: 0.531477 \tValidation Loss: 0.180745\n"
     ]
    },
    {
     "name": "stderr",
     "output_type": "stream",
     "text": [
      "Epoch 5/25 [Training]: 100%|███████████████████████████████████████████████████████████████████████████████████████████████████| 35/35 [00:10<00:00,  3.21it/s, loss=0.958]\n",
      "Epoch 5/25 [Validation]: 100%|█████████████████████████████████████████████████████████████████████████████████████████████████| 12/12 [00:02<00:00,  5.38it/s, loss=0.811]\n"
     ]
    },
    {
     "name": "stdout",
     "output_type": "stream",
     "text": [
      "\n",
      "Epoch: 5 \tTraining Loss: 0.495243 \tValidation Loss: 0.187210\n"
     ]
    },
    {
     "name": "stderr",
     "output_type": "stream",
     "text": [
      "Epoch 6/25 [Training]: 100%|███████████████████████████████████████████████████████████████████████████████████████████████████| 35/35 [00:11<00:00,  3.14it/s, loss=0.581]\n",
      "Epoch 6/25 [Validation]: 100%|█████████████████████████████████████████████████████████████████████████████████████████████████| 12/12 [00:02<00:00,  5.02it/s, loss=0.768]\n"
     ]
    },
    {
     "name": "stdout",
     "output_type": "stream",
     "text": [
      "\n",
      "Epoch: 6 \tTraining Loss: 0.470166 \tValidation Loss: 0.179314\n"
     ]
    },
    {
     "name": "stderr",
     "output_type": "stream",
     "text": [
      "Epoch 7/25 [Training]: 100%|███████████████████████████████████████████████████████████████████████████████████████████████████| 35/35 [00:11<00:00,  3.07it/s, loss=0.829]\n",
      "Epoch 7/25 [Validation]: 100%|█████████████████████████████████████████████████████████████████████████████████████████████████| 12/12 [00:02<00:00,  4.80it/s, loss=0.657]\n"
     ]
    },
    {
     "name": "stdout",
     "output_type": "stream",
     "text": [
      "\n",
      "Epoch: 7 \tTraining Loss: 0.456745 \tValidation Loss: 0.171797\n"
     ]
    },
    {
     "name": "stderr",
     "output_type": "stream",
     "text": [
      "Epoch 8/25 [Training]: 100%|███████████████████████████████████████████████████████████████████████████████████████████████████| 35/35 [00:11<00:00,  3.04it/s, loss=0.882]\n",
      "Epoch 8/25 [Validation]: 100%|█████████████████████████████████████████████████████████████████████████████████████████████████| 12/12 [00:02<00:00,  4.81it/s, loss=0.753]\n"
     ]
    },
    {
     "name": "stdout",
     "output_type": "stream",
     "text": [
      "\n",
      "Epoch: 8 \tTraining Loss: 0.420877 \tValidation Loss: 0.166181\n"
     ]
    },
    {
     "name": "stderr",
     "output_type": "stream",
     "text": [
      "Epoch 9/25 [Training]: 100%|███████████████████████████████████████████████████████████████████████████████████████████████████| 35/35 [00:11<00:00,  3.05it/s, loss=0.919]\n",
      "Epoch 9/25 [Validation]: 100%|█████████████████████████████████████████████████████████████████████████████████████████████████| 12/12 [00:02<00:00,  4.57it/s, loss=0.449]\n"
     ]
    },
    {
     "name": "stdout",
     "output_type": "stream",
     "text": [
      "\n",
      "Epoch: 9 \tTraining Loss: 0.404817 \tValidation Loss: 0.175238\n"
     ]
    },
    {
     "name": "stderr",
     "output_type": "stream",
     "text": [
      "Epoch 10/25 [Training]: 100%|██████████████████████████████████████████████████████████████████████████████████████████████████| 35/35 [00:11<00:00,  3.09it/s, loss=0.949]\n",
      "Epoch 10/25 [Validation]: 100%|████████████████████████████████████████████████████████████████████████████████████████████████| 12/12 [00:02<00:00,  4.10it/s, loss=0.856]\n"
     ]
    },
    {
     "name": "stdout",
     "output_type": "stream",
     "text": [
      "\n",
      "Epoch: 10 \tTraining Loss: 0.379092 \tValidation Loss: 0.164094\n"
     ]
    },
    {
     "name": "stderr",
     "output_type": "stream",
     "text": [
      "Epoch 11/25 [Training]: 100%|██████████████████████████████████████████████████████████████████████████████████████████████████| 35/35 [00:12<00:00,  2.88it/s, loss=0.656]\n",
      "Epoch 11/25 [Validation]: 100%|█████████████████████████████████████████████████████████████████████████████████████████████████| 12/12 [00:02<00:00,  4.57it/s, loss=1.06]\n"
     ]
    },
    {
     "name": "stdout",
     "output_type": "stream",
     "text": [
      "\n",
      "Epoch: 11 \tTraining Loss: 0.358978 \tValidation Loss: 0.171940\n"
     ]
    },
    {
     "name": "stderr",
     "output_type": "stream",
     "text": [
      "Epoch 12/25 [Training]: 100%|██████████████████████████████████████████████████████████████████████████████████████████████████| 35/35 [00:11<00:00,  3.07it/s, loss=0.786]\n",
      "Epoch 12/25 [Validation]: 100%|████████████████████████████████████████████████████████████████████████████████████████████████| 12/12 [00:02<00:00,  4.62it/s, loss=0.665]\n"
     ]
    },
    {
     "name": "stdout",
     "output_type": "stream",
     "text": [
      "\n",
      "Epoch: 12 \tTraining Loss: 0.339374 \tValidation Loss: 0.159272\n"
     ]
    },
    {
     "name": "stderr",
     "output_type": "stream",
     "text": [
      "Epoch 13/25 [Training]: 100%|██████████████████████████████████████████████████████████████████████████████████████████████████| 35/35 [00:11<00:00,  2.99it/s, loss=0.385]\n",
      "Epoch 13/25 [Validation]: 100%|████████████████████████████████████████████████████████████████████████████████████████████████| 12/12 [00:02<00:00,  4.69it/s, loss=0.982]\n"
     ]
    },
    {
     "name": "stdout",
     "output_type": "stream",
     "text": [
      "\n",
      "Epoch: 13 \tTraining Loss: 0.337305 \tValidation Loss: 0.163117\n"
     ]
    },
    {
     "name": "stderr",
     "output_type": "stream",
     "text": [
      "Epoch 14/25 [Training]: 100%|██████████████████████████████████████████████████████████████████████████████████████████████████| 35/35 [00:11<00:00,  2.93it/s, loss=0.688]\n",
      "Epoch 14/25 [Validation]: 100%|████████████████████████████████████████████████████████████████████████████████████████████████| 12/12 [00:02<00:00,  4.37it/s, loss=0.594]\n"
     ]
    },
    {
     "name": "stdout",
     "output_type": "stream",
     "text": [
      "\n",
      "Epoch: 14 \tTraining Loss: 0.301001 \tValidation Loss: 0.153022\n"
     ]
    },
    {
     "name": "stderr",
     "output_type": "stream",
     "text": [
      "Epoch 15/25 [Training]: 100%|██████████████████████████████████████████████████████████████████████████████████████████████████| 35/35 [00:11<00:00,  2.96it/s, loss=0.649]\n",
      "Epoch 15/25 [Validation]: 100%|████████████████████████████████████████████████████████████████████████████████████████████████| 12/12 [00:02<00:00,  4.43it/s, loss=0.937]\n"
     ]
    },
    {
     "name": "stdout",
     "output_type": "stream",
     "text": [
      "\n",
      "Epoch: 15 \tTraining Loss: 0.269976 \tValidation Loss: 0.164082\n"
     ]
    },
    {
     "name": "stderr",
     "output_type": "stream",
     "text": [
      "Epoch 16/25 [Training]: 100%|██████████████████████████████████████████████████████████████████████████████████████████████████| 35/35 [00:11<00:00,  2.97it/s, loss=0.485]\n",
      "Epoch 16/25 [Validation]: 100%|████████████████████████████████████████████████████████████████████████████████████████████████| 12/12 [00:02<00:00,  4.59it/s, loss=0.899]\n"
     ]
    },
    {
     "name": "stdout",
     "output_type": "stream",
     "text": [
      "\n",
      "Epoch: 16 \tTraining Loss: 0.268153 \tValidation Loss: 0.174221\n"
     ]
    },
    {
     "name": "stderr",
     "output_type": "stream",
     "text": [
      "Epoch 17/25 [Training]: 100%|██████████████████████████████████████████████████████████████████████████████████████████████████| 35/35 [00:11<00:00,  3.08it/s, loss=0.146]\n",
      "Epoch 17/25 [Validation]: 100%|█████████████████████████████████████████████████████████████████████████████████████████████████| 12/12 [00:02<00:00,  4.60it/s, loss=1.15]\n"
     ]
    },
    {
     "name": "stdout",
     "output_type": "stream",
     "text": [
      "\n",
      "Epoch: 17 \tTraining Loss: 0.235344 \tValidation Loss: 0.163196\n"
     ]
    },
    {
     "name": "stderr",
     "output_type": "stream",
     "text": [
      "Epoch 18/25 [Training]: 100%|██████████████████████████████████████████████████████████████████████████████████████████████████| 35/35 [00:11<00:00,  3.05it/s, loss=0.135]\n",
      "Epoch 18/25 [Validation]: 100%|████████████████████████████████████████████████████████████████████████████████████████████████| 12/12 [00:02<00:00,  4.72it/s, loss=0.905]\n"
     ]
    },
    {
     "name": "stdout",
     "output_type": "stream",
     "text": [
      "\n",
      "Epoch: 18 \tTraining Loss: 0.202697 \tValidation Loss: 0.176067\n"
     ]
    },
    {
     "name": "stderr",
     "output_type": "stream",
     "text": [
      "Epoch 19/25 [Training]: 100%|██████████████████████████████████████████████████████████████████████████████████████████████████| 35/35 [00:11<00:00,  3.13it/s, loss=0.386]\n",
      "Epoch 19/25 [Validation]: 100%|████████████████████████████████████████████████████████████████████████████████████████████████| 12/12 [00:02<00:00,  5.07it/s, loss=0.901]\n"
     ]
    },
    {
     "name": "stdout",
     "output_type": "stream",
     "text": [
      "\n",
      "Epoch: 19 \tTraining Loss: 0.215891 \tValidation Loss: 0.176880\n"
     ]
    },
    {
     "name": "stderr",
     "output_type": "stream",
     "text": [
      "Epoch 20/25 [Training]: 100%|██████████████████████████████████████████████████████████████████████████████████████████████████| 35/35 [00:11<00:00,  3.16it/s, loss=0.689]\n",
      "Epoch 20/25 [Validation]: 100%|█████████████████████████████████████████████████████████████████████████████████████████████████| 12/12 [00:02<00:00,  4.75it/s, loss=1.49]\n"
     ]
    },
    {
     "name": "stdout",
     "output_type": "stream",
     "text": [
      "\n",
      "Epoch: 20 \tTraining Loss: 0.199344 \tValidation Loss: 0.182388\n"
     ]
    },
    {
     "name": "stderr",
     "output_type": "stream",
     "text": [
      "Epoch 21/25 [Training]: 100%|██████████████████████████████████████████████████████████████████████████████████████████████████| 35/35 [00:12<00:00,  2.86it/s, loss=0.372]\n",
      "Epoch 21/25 [Validation]: 100%|████████████████████████████████████████████████████████████████████████████████████████████████| 12/12 [00:03<00:00,  3.76it/s, loss=0.819]\n"
     ]
    },
    {
     "name": "stdout",
     "output_type": "stream",
     "text": [
      "\n",
      "Epoch: 21 \tTraining Loss: 0.204538 \tValidation Loss: 0.195169\n"
     ]
    },
    {
     "name": "stderr",
     "output_type": "stream",
     "text": [
      "Epoch 22/25 [Training]: 100%|██████████████████████████████████████████████████████████████████████████████████████████████████| 35/35 [00:14<00:00,  2.44it/s, loss=0.221]\n",
      "Epoch 22/25 [Validation]: 100%|█████████████████████████████████████████████████████████████████████████████████████████████████| 12/12 [00:04<00:00,  2.90it/s, loss=1.58]\n"
     ]
    },
    {
     "name": "stdout",
     "output_type": "stream",
     "text": [
      "\n",
      "Epoch: 22 \tTraining Loss: 0.170331 \tValidation Loss: 0.183321\n"
     ]
    },
    {
     "name": "stderr",
     "output_type": "stream",
     "text": [
      "Epoch 23/25 [Training]: 100%|███████████████████████████████████████████████████████████████████████████████████████████████████| 35/35 [00:17<00:00,  1.95it/s, loss=0.11]\n",
      "Epoch 23/25 [Validation]: 100%|████████████████████████████████████████████████████████████████████████████████████████████████| 12/12 [00:03<00:00,  3.29it/s, loss=0.479]\n"
     ]
    },
    {
     "name": "stdout",
     "output_type": "stream",
     "text": [
      "\n",
      "Epoch: 23 \tTraining Loss: 0.159698 \tValidation Loss: 0.193560\n"
     ]
    },
    {
     "name": "stderr",
     "output_type": "stream",
     "text": [
      "Epoch 24/25 [Training]: 100%|███████████████████████████████████████████████████████████████████████████████████████████████████| 35/35 [00:16<00:00,  2.17it/s, loss=0.31]\n",
      "Epoch 24/25 [Validation]: 100%|█████████████████████████████████████████████████████████████████████████████████████████████████| 12/12 [00:03<00:00,  3.17it/s, loss=0.96]\n"
     ]
    },
    {
     "name": "stdout",
     "output_type": "stream",
     "text": [
      "\n",
      "Epoch: 24 \tTraining Loss: 0.145057 \tValidation Loss: 0.182931\n"
     ]
    },
    {
     "name": "stderr",
     "output_type": "stream",
     "text": [
      "Epoch 25/25 [Training]: 100%|██████████████████████████████████████████████████████████████████████████████████████████████████| 35/35 [00:16<00:00,  2.15it/s, loss=0.245]\n",
      "Epoch 25/25 [Validation]: 100%|█████████████████████████████████████████████████████████████████████████████████████████████████| 12/12 [00:03<00:00,  3.62it/s, loss=1.09]"
     ]
    },
    {
     "name": "stdout",
     "output_type": "stream",
     "text": [
      "\n",
      "Epoch: 25 \tTraining Loss: 0.127569 \tValidation Loss: 0.191690\n"
     ]
    },
    {
     "name": "stderr",
     "output_type": "stream",
     "text": [
      "\n"
     ]
    }
   ],
   "source": [
    "# Training CNN model 1\n",
    "number_of_classes = 5\n",
    "model = create_cnn_model(number_of_classes)\n",
    "model = model.to(device)\n",
    "criterion = nn.CrossEntropyLoss()\n",
    "optimizer = optim.Adam(model.parameters(), lr=0.001)\n",
    "number_of_epochs = 25\n",
    "\n",
    "cnn_model_loss = train_model(model, criterion, optimizer, number_of_epochs)"
   ]
  },
  {
   "cell_type": "code",
   "execution_count": 31,
   "id": "2a82130027a0522e",
   "metadata": {
    "ExecuteTime": {
     "end_time": "2024-03-19T06:59:48.988781Z",
     "start_time": "2024-03-19T06:59:45.567692Z"
    },
    "collapsed": false,
    "jupyter": {
     "outputs_hidden": false
    }
   },
   "outputs": [
    {
     "name": "stdout",
     "output_type": "stream",
     "text": [
      "Test Accuracy of daisy: 81% (104/128)\n",
      "Test Accuracy of dandelion: 73% (122/168)\n",
      "Test Accuracy of roses: 56% (85/151)\n",
      "Test Accuracy of sunflowers: 80% (103/129)\n",
      "Test Accuracy of tulips: 62% (98/158)\n",
      "Overall Accuracy: 69.75%\n",
      "Test Loss: 0.231416\n",
      "Results for cnn_model have been updated in test_results.txt.\n"
     ]
    }
   ],
   "source": [
    "# Testing CNN model 1\n",
    "test_model(model, criterion, \"cnn_model\", results, cnn_model_loss)\n",
    "save_results_to_file(\"cnn_model\", results)"
   ]
  },
  {
   "cell_type": "code",
   "execution_count": 10,
   "id": "d3a725642ca1ed3f",
   "metadata": {
    "ExecuteTime": {
     "end_time": "2024-03-19T08:59:37.728505Z",
     "start_time": "2024-03-19T08:49:53.239713Z"
    },
    "collapsed": false,
    "jupyter": {
     "outputs_hidden": false
    }
   },
   "outputs": [
    {
     "name": "stdout",
     "output_type": "stream",
     "text": [
      "MLP(\n",
      "  (input_fc): Linear(in_features=150528, out_features=250, bias=True)\n",
      "  (hidden_fc): Linear(in_features=250, out_features=100, bias=True)\n",
      "  (output_fc): Linear(in_features=100, out_features=5, bias=True)\n",
      ")\n",
      "Trainable parameters: 37657855\n"
     ]
    },
    {
     "name": "stderr",
     "output_type": "stream",
     "text": [
      "Epoch 1/30 [Training]: 100%|████████████████████████████████████████████████████████████████████████████████████████████████████| 35/35 [00:07<00:00,  4.80it/s, loss=2.76]\n",
      "Epoch 1/30 [Validation]: 100%|██████████████████████████████████████████████████████████████████████████████████████████████████| 12/12 [00:01<00:00,  6.19it/s, loss=2.42]\n"
     ]
    },
    {
     "name": "stdout",
     "output_type": "stream",
     "text": [
      "\n",
      "Epoch: 1 \tTraining Loss: 2.418767 \tValidation Loss: 0.452588\n"
     ]
    },
    {
     "name": "stderr",
     "output_type": "stream",
     "text": [
      "Epoch 2/30 [Training]: 100%|████████████████████████████████████████████████████████████████████████████████████████████████████| 35/35 [00:06<00:00,  5.06it/s, loss=1.15]\n",
      "Epoch 2/30 [Validation]: 100%|██████████████████████████████████████████████████████████████████████████████████████████████████| 12/12 [00:01<00:00,  6.19it/s, loss=1.92]\n"
     ]
    },
    {
     "name": "stdout",
     "output_type": "stream",
     "text": [
      "\n",
      "Epoch: 2 \tTraining Loss: 1.134153 \tValidation Loss: 0.436200\n"
     ]
    },
    {
     "name": "stderr",
     "output_type": "stream",
     "text": [
      "Epoch 3/30 [Training]: 100%|████████████████████████████████████████████████████████████████████████████████████████████████████| 35/35 [00:07<00:00,  4.96it/s, loss=1.08]\n",
      "Epoch 3/30 [Validation]: 100%|██████████████████████████████████████████████████████████████████████████████████████████████████| 12/12 [00:01<00:00,  6.03it/s, loss=1.26]\n"
     ]
    },
    {
     "name": "stdout",
     "output_type": "stream",
     "text": [
      "\n",
      "Epoch: 3 \tTraining Loss: 0.954764 \tValidation Loss: 0.311111\n"
     ]
    },
    {
     "name": "stderr",
     "output_type": "stream",
     "text": [
      "Epoch 4/30 [Training]: 100%|████████████████████████████████████████████████████████████████████████████████████████████████████| 35/35 [00:07<00:00,  4.98it/s, loss=1.21]\n",
      "Epoch 4/30 [Validation]: 100%|██████████████████████████████████████████████████████████████████████████████████████████████████| 12/12 [00:01<00:00,  6.35it/s, loss=2.87]\n"
     ]
    },
    {
     "name": "stdout",
     "output_type": "stream",
     "text": [
      "\n",
      "Epoch: 4 \tTraining Loss: 0.822373 \tValidation Loss: 0.286358\n"
     ]
    },
    {
     "name": "stderr",
     "output_type": "stream",
     "text": [
      "Epoch 5/30 [Training]: 100%|████████████████████████████████████████████████████████████████████████████████████████████████████| 35/35 [00:07<00:00,  4.96it/s, loss=1.26]\n",
      "Epoch 5/30 [Validation]: 100%|██████████████████████████████████████████████████████████████████████████████████████████████████| 12/12 [00:01<00:00,  6.41it/s, loss=1.41]\n"
     ]
    },
    {
     "name": "stdout",
     "output_type": "stream",
     "text": [
      "\n",
      "Epoch: 5 \tTraining Loss: 0.774588 \tValidation Loss: 0.285562\n"
     ]
    },
    {
     "name": "stderr",
     "output_type": "stream",
     "text": [
      "Epoch 6/30 [Training]: 100%|████████████████████████████████████████████████████████████████████████████████████████████████████| 35/35 [00:07<00:00,  4.93it/s, loss=1.31]\n",
      "Epoch 6/30 [Validation]: 100%|██████████████████████████████████████████████████████████████████████████████████████████████████| 12/12 [00:01<00:00,  6.43it/s, loss=1.39]\n"
     ]
    },
    {
     "name": "stdout",
     "output_type": "stream",
     "text": [
      "\n",
      "Epoch: 6 \tTraining Loss: 0.758212 \tValidation Loss: 0.286017\n"
     ]
    },
    {
     "name": "stderr",
     "output_type": "stream",
     "text": [
      "Epoch 7/30 [Training]: 100%|████████████████████████████████████████████████████████████████████████████████████████████████████| 35/35 [00:07<00:00,  4.87it/s, loss=1.02]\n",
      "Epoch 7/30 [Validation]: 100%|██████████████████████████████████████████████████████████████████████████████████████████████████| 12/12 [00:01<00:00,  6.16it/s, loss=1.47]\n"
     ]
    },
    {
     "name": "stdout",
     "output_type": "stream",
     "text": [
      "\n",
      "Epoch: 7 \tTraining Loss: 0.732064 \tValidation Loss: 0.265427\n"
     ]
    },
    {
     "name": "stderr",
     "output_type": "stream",
     "text": [
      "Epoch 8/30 [Training]: 100%|████████████████████████████████████████████████████████████████████████████████████████████████████| 35/35 [00:07<00:00,  4.89it/s, loss=1.03]\n",
      "Epoch 8/30 [Validation]: 100%|██████████████████████████████████████████████████████████████████████████████████████████████████| 12/12 [00:02<00:00,  5.96it/s, loss=1.43]\n"
     ]
    },
    {
     "name": "stdout",
     "output_type": "stream",
     "text": [
      "\n",
      "Epoch: 8 \tTraining Loss: 0.687295 \tValidation Loss: 0.266493\n"
     ]
    },
    {
     "name": "stderr",
     "output_type": "stream",
     "text": [
      "Epoch 9/30 [Training]: 100%|████████████████████████████████████████████████████████████████████████████████████████████████████| 35/35 [00:07<00:00,  4.80it/s, loss=1.06]\n",
      "Epoch 9/30 [Validation]: 100%|██████████████████████████████████████████████████████████████████████████████████████████████████| 12/12 [00:02<00:00,  5.99it/s, loss=1.36]\n"
     ]
    },
    {
     "name": "stdout",
     "output_type": "stream",
     "text": [
      "\n",
      "Epoch: 9 \tTraining Loss: 0.662634 \tValidation Loss: 0.263017\n"
     ]
    },
    {
     "name": "stderr",
     "output_type": "stream",
     "text": [
      "Epoch 10/30 [Training]: 100%|███████████████████████████████████████████████████████████████████████████████████████████████████| 35/35 [00:07<00:00,  4.80it/s, loss=1.09]\n",
      "Epoch 10/30 [Validation]: 100%|██████████████████████████████████████████████████████████████████████████████████████████████████| 12/12 [00:01<00:00,  6.24it/s, loss=1.3]\n"
     ]
    },
    {
     "name": "stdout",
     "output_type": "stream",
     "text": [
      "\n",
      "Epoch: 10 \tTraining Loss: 0.663770 \tValidation Loss: 0.263255\n"
     ]
    },
    {
     "name": "stderr",
     "output_type": "stream",
     "text": [
      "Epoch 11/30 [Training]: 100%|███████████████████████████████████████████████████████████████████████████████████████████████████| 35/35 [00:07<00:00,  4.78it/s, loss=1.06]\n",
      "Epoch 11/30 [Validation]: 100%|████████████████████████████████████████████████████████████████████████████████████████████████| 12/12 [00:01<00:00,  6.15it/s, loss=0.978]\n"
     ]
    },
    {
     "name": "stdout",
     "output_type": "stream",
     "text": [
      "\n",
      "Epoch: 11 \tTraining Loss: 0.636473 \tValidation Loss: 0.269926\n"
     ]
    },
    {
     "name": "stderr",
     "output_type": "stream",
     "text": [
      "Epoch 12/30 [Training]: 100%|██████████████████████████████████████████████████████████████████████████████████████████████████| 35/35 [00:07<00:00,  4.76it/s, loss=0.982]\n",
      "Epoch 12/30 [Validation]: 100%|█████████████████████████████████████████████████████████████████████████████████████████████████| 12/12 [00:02<00:00,  5.72it/s, loss=1.24]\n"
     ]
    },
    {
     "name": "stdout",
     "output_type": "stream",
     "text": [
      "\n",
      "Epoch: 12 \tTraining Loss: 0.622491 \tValidation Loss: 0.260886\n"
     ]
    },
    {
     "name": "stderr",
     "output_type": "stream",
     "text": [
      "Epoch 13/30 [Training]: 100%|██████████████████████████████████████████████████████████████████████████████████████████████████| 35/35 [00:07<00:00,  4.77it/s, loss=0.957]\n",
      "Epoch 13/30 [Validation]: 100%|█████████████████████████████████████████████████████████████████████████████████████████████████| 12/12 [00:02<00:00,  5.80it/s, loss=1.54]\n"
     ]
    },
    {
     "name": "stdout",
     "output_type": "stream",
     "text": [
      "\n",
      "Epoch: 13 \tTraining Loss: 0.618568 \tValidation Loss: 0.266557\n"
     ]
    },
    {
     "name": "stderr",
     "output_type": "stream",
     "text": [
      "Epoch 14/30 [Training]: 100%|██████████████████████████████████████████████████████████████████████████████████████████████████| 35/35 [00:07<00:00,  4.72it/s, loss=0.888]\n",
      "Epoch 14/30 [Validation]: 100%|█████████████████████████████████████████████████████████████████████████████████████████████████| 12/12 [00:02<00:00,  5.93it/s, loss=1.39]\n"
     ]
    },
    {
     "name": "stdout",
     "output_type": "stream",
     "text": [
      "\n",
      "Epoch: 14 \tTraining Loss: 0.612947 \tValidation Loss: 0.265448\n"
     ]
    },
    {
     "name": "stderr",
     "output_type": "stream",
     "text": [
      "Epoch 15/30 [Training]: 100%|████████████████████████████████████████████████████████████████████████████████████████████████████| 35/35 [00:07<00:00,  4.66it/s, loss=1.1]\n",
      "Epoch 15/30 [Validation]: 100%|█████████████████████████████████████████████████████████████████████████████████████████████████| 12/12 [00:01<00:00,  6.00it/s, loss=1.24]\n"
     ]
    },
    {
     "name": "stdout",
     "output_type": "stream",
     "text": [
      "\n",
      "Epoch: 15 \tTraining Loss: 0.604936 \tValidation Loss: 0.267817\n"
     ]
    },
    {
     "name": "stderr",
     "output_type": "stream",
     "text": [
      "Epoch 16/30 [Training]: 100%|███████████████████████████████████████████████████████████████████████████████████████████████████| 35/35 [00:07<00:00,  4.70it/s, loss=1.43]\n",
      "Epoch 16/30 [Validation]: 100%|█████████████████████████████████████████████████████████████████████████████████████████████████| 12/12 [00:02<00:00,  5.87it/s, loss=1.39]\n"
     ]
    },
    {
     "name": "stdout",
     "output_type": "stream",
     "text": [
      "\n",
      "Epoch: 16 \tTraining Loss: 0.606148 \tValidation Loss: 0.271512\n"
     ]
    },
    {
     "name": "stderr",
     "output_type": "stream",
     "text": [
      "Epoch 17/30 [Training]: 100%|██████████████████████████████████████████████████████████████████████████████████████████████████| 35/35 [00:07<00:00,  4.77it/s, loss=0.696]\n",
      "Epoch 17/30 [Validation]: 100%|█████████████████████████████████████████████████████████████████████████████████████████████████| 12/12 [00:02<00:00,  5.87it/s, loss=1.96]\n"
     ]
    },
    {
     "name": "stdout",
     "output_type": "stream",
     "text": [
      "\n",
      "Epoch: 17 \tTraining Loss: 0.596052 \tValidation Loss: 0.265334\n"
     ]
    },
    {
     "name": "stderr",
     "output_type": "stream",
     "text": [
      "Epoch 18/30 [Training]: 100%|███████████████████████████████████████████████████████████████████████████████████████████████████| 35/35 [00:07<00:00,  4.62it/s, loss=1.12]\n",
      "Epoch 18/30 [Validation]: 100%|█████████████████████████████████████████████████████████████████████████████████████████████████| 12/12 [00:02<00:00,  5.75it/s, loss=1.19]\n"
     ]
    },
    {
     "name": "stdout",
     "output_type": "stream",
     "text": [
      "\n",
      "Epoch: 18 \tTraining Loss: 0.577127 \tValidation Loss: 0.269577\n"
     ]
    },
    {
     "name": "stderr",
     "output_type": "stream",
     "text": [
      "Epoch 19/30 [Training]: 100%|██████████████████████████████████████████████████████████████████████████████████████████████████| 35/35 [00:07<00:00,  4.40it/s, loss=0.885]\n",
      "Epoch 19/30 [Validation]: 100%|█████████████████████████████████████████████████████████████████████████████████████████████████| 12/12 [00:02<00:00,  5.41it/s, loss=1.16]\n"
     ]
    },
    {
     "name": "stdout",
     "output_type": "stream",
     "text": [
      "\n",
      "Epoch: 19 \tTraining Loss: 0.563444 \tValidation Loss: 0.259327\n"
     ]
    },
    {
     "name": "stderr",
     "output_type": "stream",
     "text": [
      "Epoch 20/30 [Training]: 100%|██████████████████████████████████████████████████████████████████████████████████████████████████| 35/35 [00:08<00:00,  4.26it/s, loss=0.853]\n",
      "Epoch 20/30 [Validation]: 100%|█████████████████████████████████████████████████████████████████████████████████████████████████| 12/12 [00:02<00:00,  5.12it/s, loss=1.09]\n"
     ]
    },
    {
     "name": "stdout",
     "output_type": "stream",
     "text": [
      "\n",
      "Epoch: 20 \tTraining Loss: 0.552877 \tValidation Loss: 0.270029\n"
     ]
    },
    {
     "name": "stderr",
     "output_type": "stream",
     "text": [
      "Epoch 21/30 [Training]: 100%|██████████████████████████████████████████████████████████████████████████████████████████████████| 35/35 [00:08<00:00,  3.97it/s, loss=0.926]\n",
      "Epoch 21/30 [Validation]: 100%|█████████████████████████████████████████████████████████████████████████████████████████████████| 12/12 [00:02<00:00,  4.76it/s, loss=1.23]\n"
     ]
    },
    {
     "name": "stdout",
     "output_type": "stream",
     "text": [
      "\n",
      "Epoch: 21 \tTraining Loss: 0.523894 \tValidation Loss: 0.264129\n"
     ]
    },
    {
     "name": "stderr",
     "output_type": "stream",
     "text": [
      "Epoch 22/30 [Training]: 100%|██████████████████████████████████████████████████████████████████████████████████████████████████| 35/35 [00:09<00:00,  3.80it/s, loss=0.847]\n",
      "Epoch 22/30 [Validation]: 100%|█████████████████████████████████████████████████████████████████████████████████████████████████| 12/12 [00:02<00:00,  4.38it/s, loss=1.81]\n"
     ]
    },
    {
     "name": "stdout",
     "output_type": "stream",
     "text": [
      "\n",
      "Epoch: 22 \tTraining Loss: 0.526878 \tValidation Loss: 0.286321\n"
     ]
    },
    {
     "name": "stderr",
     "output_type": "stream",
     "text": [
      "Epoch 23/30 [Training]: 100%|███████████████████████████████████████████████████████████████████████████████████████████████████| 35/35 [00:09<00:00,  3.66it/s, loss=1.03]\n",
      "Epoch 23/30 [Validation]: 100%|█████████████████████████████████████████████████████████████████████████████████████████████████| 12/12 [00:02<00:00,  4.34it/s, loss=1.35]\n"
     ]
    },
    {
     "name": "stdout",
     "output_type": "stream",
     "text": [
      "\n",
      "Epoch: 23 \tTraining Loss: 0.539555 \tValidation Loss: 0.279676\n"
     ]
    },
    {
     "name": "stderr",
     "output_type": "stream",
     "text": [
      "Epoch 24/30 [Training]: 100%|██████████████████████████████████████████████████████████████████████████████████████████████████| 35/35 [00:09<00:00,  3.64it/s, loss=0.841]\n",
      "Epoch 24/30 [Validation]: 100%|█████████████████████████████████████████████████████████████████████████████████████████████████| 12/12 [00:02<00:00,  4.36it/s, loss=1.17]\n"
     ]
    },
    {
     "name": "stdout",
     "output_type": "stream",
     "text": [
      "\n",
      "Epoch: 24 \tTraining Loss: 0.529141 \tValidation Loss: 0.273988\n"
     ]
    },
    {
     "name": "stderr",
     "output_type": "stream",
     "text": [
      "Epoch 25/30 [Training]: 100%|██████████████████████████████████████████████████████████████████████████████████████████████████| 35/35 [00:11<00:00,  3.11it/s, loss=0.737]\n",
      "Epoch 25/30 [Validation]: 100%|█████████████████████████████████████████████████████████████████████████████████████████████████| 12/12 [00:03<00:00,  3.57it/s, loss=1.09]\n"
     ]
    },
    {
     "name": "stdout",
     "output_type": "stream",
     "text": [
      "\n",
      "Epoch: 25 \tTraining Loss: 0.537647 \tValidation Loss: 0.290258\n"
     ]
    },
    {
     "name": "stderr",
     "output_type": "stream",
     "text": [
      "Epoch 26/30 [Training]: 100%|██████████████████████████████████████████████████████████████████████████████████████████████████| 35/35 [00:09<00:00,  3.68it/s, loss=0.846]\n",
      "Epoch 26/30 [Validation]: 100%|█████████████████████████████████████████████████████████████████████████████████████████████████| 12/12 [00:02<00:00,  4.55it/s, loss=1.23]\n"
     ]
    },
    {
     "name": "stdout",
     "output_type": "stream",
     "text": [
      "\n",
      "Epoch: 26 \tTraining Loss: 0.522095 \tValidation Loss: 0.267798\n"
     ]
    },
    {
     "name": "stderr",
     "output_type": "stream",
     "text": [
      "Epoch 27/30 [Training]: 100%|██████████████████████████████████████████████████████████████████████████████████████████████████| 35/35 [00:09<00:00,  3.87it/s, loss=0.997]\n",
      "Epoch 27/30 [Validation]: 100%|█████████████████████████████████████████████████████████████████████████████████████████████████| 12/12 [00:02<00:00,  4.85it/s, loss=1.56]\n"
     ]
    },
    {
     "name": "stdout",
     "output_type": "stream",
     "text": [
      "\n",
      "Epoch: 27 \tTraining Loss: 0.500089 \tValidation Loss: 0.274420\n"
     ]
    },
    {
     "name": "stderr",
     "output_type": "stream",
     "text": [
      "Epoch 28/30 [Training]: 100%|██████████████████████████████████████████████████████████████████████████████████████████████████| 35/35 [00:08<00:00,  3.97it/s, loss=0.864]\n",
      "Epoch 28/30 [Validation]: 100%|█████████████████████████████████████████████████████████████████████████████████████████████████| 12/12 [00:02<00:00,  4.86it/s, loss=0.89]\n"
     ]
    },
    {
     "name": "stdout",
     "output_type": "stream",
     "text": [
      "\n",
      "Epoch: 28 \tTraining Loss: 0.502102 \tValidation Loss: 0.279940\n"
     ]
    },
    {
     "name": "stderr",
     "output_type": "stream",
     "text": [
      "Epoch 29/30 [Training]: 100%|██████████████████████████████████████████████████████████████████████████████████████████████████| 35/35 [00:08<00:00,  4.04it/s, loss=0.799]\n",
      "Epoch 29/30 [Validation]: 100%|█████████████████████████████████████████████████████████████████████████████████████████████████| 12/12 [00:02<00:00,  5.03it/s, loss=1.47]\n"
     ]
    },
    {
     "name": "stdout",
     "output_type": "stream",
     "text": [
      "\n",
      "Epoch: 29 \tTraining Loss: 0.487948 \tValidation Loss: 0.277854\n"
     ]
    },
    {
     "name": "stderr",
     "output_type": "stream",
     "text": [
      "Epoch 30/30 [Training]: 100%|██████████████████████████████████████████████████████████████████████████████████████████████████| 35/35 [00:08<00:00,  4.12it/s, loss=0.848]\n",
      "Epoch 30/30 [Validation]: 100%|█████████████████████████████████████████████████████████████████████████████████████████████████| 12/12 [00:02<00:00,  5.16it/s, loss=1.35]"
     ]
    },
    {
     "name": "stdout",
     "output_type": "stream",
     "text": [
      "\n",
      "Epoch: 30 \tTraining Loss: 0.469940 \tValidation Loss: 0.291919\n"
     ]
    },
    {
     "name": "stderr",
     "output_type": "stream",
     "text": [
      "\n"
     ]
    }
   ],
   "source": [
    "# training Multi-layer perceptron\n",
    "number_of_classes = 5  # Adjust based on your dataset\n",
    "img_shape = (3, 224, 224)  # Adjust based on your dataset\n",
    "\n",
    "model = create_mlp_model(number_of_classes, img_shape)\n",
    "\n",
    "model = model.to(device)\n",
    "criterion = nn.CrossEntropyLoss()\n",
    "optimizer = torch.optim.Adam(model.parameters(), lr=0.001)\n",
    "number_of_epochs = 30\n",
    "\n",
    "mlp_loss = train_model(model, criterion, optimizer, number_of_epochs)"
   ]
  },
  {
   "cell_type": "code",
   "execution_count": 11,
   "id": "15faace48e191f98",
   "metadata": {
    "ExecuteTime": {
     "end_time": "2024-03-19T08:59:51.249040Z",
     "start_time": "2024-03-19T08:59:44.308124Z"
    },
    "collapsed": false,
    "jupyter": {
     "outputs_hidden": false
    }
   },
   "outputs": [
    {
     "name": "stdout",
     "output_type": "stream",
     "text": [
      "Test Accuracy of daisy: 41% (52/128)\n",
      "Test Accuracy of dandelion: 44% (74/168)\n",
      "Test Accuracy of roses: 34% (52/151)\n",
      "Test Accuracy of sunflowers: 67% (86/129)\n",
      "Test Accuracy of tulips: 51% (81/158)\n",
      "Overall Accuracy: 47.00%\n",
      "Test Loss: 0.298969\n",
      "Results for MLP have been updated in test_results.txt.\n"
     ]
    }
   ],
   "source": [
    "# testing MLP\n",
    "test_model(model, criterion, \"MLP\", results, mlp_loss)\n",
    "save_results_to_file(\"MLP\", results)"
   ]
  },
  {
   "cell_type": "code",
   "execution_count": 12,
   "id": "982a6bd4cee53a1f",
   "metadata": {
    "ExecuteTime": {
     "end_time": "2024-03-19T09:12:40.996464Z",
     "start_time": "2024-03-19T09:05:15.352163Z"
    },
    "collapsed": false,
    "jupyter": {
     "outputs_hidden": false
    }
   },
   "outputs": [
    {
     "name": "stdout",
     "output_type": "stream",
     "text": [
      "LeNet(\n",
      "  (conv1): Conv2d(3, 6, kernel_size=(5, 5), stride=(1, 1))\n",
      "  (conv2): Conv2d(6, 16, kernel_size=(5, 5), stride=(1, 1))\n",
      "  (fc_1): Linear(in_features=44944, out_features=120, bias=True)\n",
      "  (fc_2): Linear(in_features=120, out_features=84, bias=True)\n",
      "  (fc_3): Linear(in_features=84, out_features=5, bias=True)\n",
      ")\n",
      "The model has 5,406,861 trainable parameters\n"
     ]
    },
    {
     "name": "stderr",
     "output_type": "stream",
     "text": [
      "Epoch 1/20 [Training]: 100%|█████████████████████████████████████████████████████████████████████████████████████████████████████| 35/35 [00:07<00:00,  4.74it/s, loss=1.1]\n",
      "Epoch 1/20 [Validation]: 100%|█████████████████████████████████████████████████████████████████████████████████████████████████| 12/12 [00:01<00:00,  6.28it/s, loss=0.888]\n"
     ]
    },
    {
     "name": "stdout",
     "output_type": "stream",
     "text": [
      "\n",
      "Epoch: 1 \tTraining Loss: 0.805000 \tValidation Loss: 0.227615\n"
     ]
    },
    {
     "name": "stderr",
     "output_type": "stream",
     "text": [
      "Epoch 2/20 [Training]: 100%|████████████████████████████████████████████████████████████████████████████████████████████████████| 35/35 [00:07<00:00,  4.84it/s, loss=1.32]\n",
      "Epoch 2/20 [Validation]: 100%|██████████████████████████████████████████████████████████████████████████████████████████████████| 12/12 [00:01<00:00,  6.56it/s, loss=1.21]\n"
     ]
    },
    {
     "name": "stdout",
     "output_type": "stream",
     "text": [
      "\n",
      "Epoch: 2 \tTraining Loss: 0.685440 \tValidation Loss: 0.217559\n"
     ]
    },
    {
     "name": "stderr",
     "output_type": "stream",
     "text": [
      "Epoch 3/20 [Training]: 100%|████████████████████████████████████████████████████████████████████████████████████████████████████| 35/35 [00:07<00:00,  4.59it/s, loss=1.41]\n",
      "Epoch 3/20 [Validation]: 100%|██████████████████████████████████████████████████████████████████████████████████████████████████| 12/12 [00:02<00:00,  5.73it/s, loss=1.05]\n"
     ]
    },
    {
     "name": "stdout",
     "output_type": "stream",
     "text": [
      "\n",
      "Epoch: 3 \tTraining Loss: 0.625494 \tValidation Loss: 0.225238\n"
     ]
    },
    {
     "name": "stderr",
     "output_type": "stream",
     "text": [
      "Epoch 4/20 [Training]: 100%|███████████████████████████████████████████████████████████████████████████████████████████████████| 35/35 [00:08<00:00,  4.27it/s, loss=0.879]\n",
      "Epoch 4/20 [Validation]: 100%|█████████████████████████████████████████████████████████████████████████████████████████████████| 12/12 [00:02<00:00,  5.28it/s, loss=0.991]\n"
     ]
    },
    {
     "name": "stdout",
     "output_type": "stream",
     "text": [
      "\n",
      "Epoch: 4 \tTraining Loss: 0.587422 \tValidation Loss: 0.197433\n"
     ]
    },
    {
     "name": "stderr",
     "output_type": "stream",
     "text": [
      "Epoch 5/20 [Training]: 100%|████████████████████████████████████████████████████████████████████████████████████████████████████| 35/35 [00:08<00:00,  3.99it/s, loss=1.19]\n",
      "Epoch 5/20 [Validation]: 100%|██████████████████████████████████████████████████████████████████████████████████████████████████| 12/12 [00:02<00:00,  5.01it/s, loss=1.06]\n"
     ]
    },
    {
     "name": "stdout",
     "output_type": "stream",
     "text": [
      "\n",
      "Epoch: 5 \tTraining Loss: 0.550743 \tValidation Loss: 0.205848\n"
     ]
    },
    {
     "name": "stderr",
     "output_type": "stream",
     "text": [
      "Epoch 6/20 [Training]: 100%|████████████████████████████████████████████████████████████████████████████████████████████████████| 35/35 [00:08<00:00,  3.95it/s, loss=1.23]\n",
      "Epoch 6/20 [Validation]: 100%|█████████████████████████████████████████████████████████████████████████████████████████████████| 12/12 [00:02<00:00,  4.85it/s, loss=0.624]\n"
     ]
    },
    {
     "name": "stdout",
     "output_type": "stream",
     "text": [
      "\n",
      "Epoch: 6 \tTraining Loss: 0.518024 \tValidation Loss: 0.193657\n"
     ]
    },
    {
     "name": "stderr",
     "output_type": "stream",
     "text": [
      "Epoch 7/20 [Training]: 100%|███████████████████████████████████████████████████████████████████████████████████████████████████| 35/35 [00:09<00:00,  3.87it/s, loss=0.826]\n",
      "Epoch 7/20 [Validation]: 100%|█████████████████████████████████████████████████████████████████████████████████████████████████| 12/12 [00:02<00:00,  4.88it/s, loss=0.767]\n"
     ]
    },
    {
     "name": "stdout",
     "output_type": "stream",
     "text": [
      "\n",
      "Epoch: 7 \tTraining Loss: 0.488590 \tValidation Loss: 0.181559\n"
     ]
    },
    {
     "name": "stderr",
     "output_type": "stream",
     "text": [
      "Epoch 8/20 [Training]: 100%|███████████████████████████████████████████████████████████████████████████████████████████████████| 35/35 [00:08<00:00,  3.89it/s, loss=0.805]\n",
      "Epoch 8/20 [Validation]: 100%|█████████████████████████████████████████████████████████████████████████████████████████████████| 12/12 [00:02<00:00,  4.65it/s, loss=0.657]\n"
     ]
    },
    {
     "name": "stdout",
     "output_type": "stream",
     "text": [
      "\n",
      "Epoch: 8 \tTraining Loss: 0.477593 \tValidation Loss: 0.179040\n"
     ]
    },
    {
     "name": "stderr",
     "output_type": "stream",
     "text": [
      "Epoch 9/20 [Training]: 100%|███████████████████████████████████████████████████████████████████████████████████████████████████| 35/35 [00:09<00:00,  3.86it/s, loss=0.705]\n",
      "Epoch 9/20 [Validation]: 100%|█████████████████████████████████████████████████████████████████████████████████████████████████| 12/12 [00:02<00:00,  4.80it/s, loss=0.993]\n"
     ]
    },
    {
     "name": "stdout",
     "output_type": "stream",
     "text": [
      "\n",
      "Epoch: 9 \tTraining Loss: 0.435251 \tValidation Loss: 0.180474\n"
     ]
    },
    {
     "name": "stderr",
     "output_type": "stream",
     "text": [
      "Epoch 10/20 [Training]: 100%|██████████████████████████████████████████████████████████████████████████████████████████████████| 35/35 [00:09<00:00,  3.89it/s, loss=0.927]\n",
      "Epoch 10/20 [Validation]: 100%|████████████████████████████████████████████████████████████████████████████████████████████████| 12/12 [00:02<00:00,  4.86it/s, loss=0.685]\n"
     ]
    },
    {
     "name": "stdout",
     "output_type": "stream",
     "text": [
      "\n",
      "Epoch: 10 \tTraining Loss: 0.426798 \tValidation Loss: 0.197501\n"
     ]
    },
    {
     "name": "stderr",
     "output_type": "stream",
     "text": [
      "Epoch 11/20 [Training]: 100%|██████████████████████████████████████████████████████████████████████████████████████████████████| 35/35 [00:08<00:00,  3.92it/s, loss=0.687]\n",
      "Epoch 11/20 [Validation]: 100%|█████████████████████████████████████████████████████████████████████████████████████████████████| 12/12 [00:02<00:00,  5.09it/s, loss=1.15]\n"
     ]
    },
    {
     "name": "stdout",
     "output_type": "stream",
     "text": [
      "\n",
      "Epoch: 11 \tTraining Loss: 0.411246 \tValidation Loss: 0.198899\n"
     ]
    },
    {
     "name": "stderr",
     "output_type": "stream",
     "text": [
      "Epoch 12/20 [Training]: 100%|██████████████████████████████████████████████████████████████████████████████████████████████████| 35/35 [00:08<00:00,  3.95it/s, loss=0.608]\n",
      "Epoch 12/20 [Validation]: 100%|█████████████████████████████████████████████████████████████████████████████████████████████████| 12/12 [00:02<00:00,  5.09it/s, loss=1.14]\n"
     ]
    },
    {
     "name": "stdout",
     "output_type": "stream",
     "text": [
      "\n",
      "Epoch: 12 \tTraining Loss: 0.371159 \tValidation Loss: 0.183527\n"
     ]
    },
    {
     "name": "stderr",
     "output_type": "stream",
     "text": [
      "Epoch 13/20 [Training]: 100%|██████████████████████████████████████████████████████████████████████████████████████████████████| 35/35 [00:08<00:00,  4.01it/s, loss=0.742]\n",
      "Epoch 13/20 [Validation]: 100%|█████████████████████████████████████████████████████████████████████████████████████████████████| 12/12 [00:02<00:00,  4.91it/s, loss=1.16]\n"
     ]
    },
    {
     "name": "stdout",
     "output_type": "stream",
     "text": [
      "\n",
      "Epoch: 13 \tTraining Loss: 0.378766 \tValidation Loss: 0.189037\n"
     ]
    },
    {
     "name": "stderr",
     "output_type": "stream",
     "text": [
      "Epoch 14/20 [Training]: 100%|██████████████████████████████████████████████████████████████████████████████████████████████████| 35/35 [00:08<00:00,  3.91it/s, loss=0.603]\n",
      "Epoch 14/20 [Validation]: 100%|████████████████████████████████████████████████████████████████████████████████████████████████| 12/12 [00:02<00:00,  4.96it/s, loss=0.986]\n"
     ]
    },
    {
     "name": "stdout",
     "output_type": "stream",
     "text": [
      "\n",
      "Epoch: 14 \tTraining Loss: 0.345833 \tValidation Loss: 0.188831\n"
     ]
    },
    {
     "name": "stderr",
     "output_type": "stream",
     "text": [
      "Epoch 15/20 [Training]: 100%|███████████████████████████████████████████████████████████████████████████████████████████████████| 35/35 [00:08<00:00,  4.00it/s, loss=0.86]\n",
      "Epoch 15/20 [Validation]: 100%|████████████████████████████████████████████████████████████████████████████████████████████████| 12/12 [00:02<00:00,  5.07it/s, loss=0.788]\n"
     ]
    },
    {
     "name": "stdout",
     "output_type": "stream",
     "text": [
      "\n",
      "Epoch: 15 \tTraining Loss: 0.322892 \tValidation Loss: 0.174653\n"
     ]
    },
    {
     "name": "stderr",
     "output_type": "stream",
     "text": [
      "Epoch 16/20 [Training]: 100%|██████████████████████████████████████████████████████████████████████████████████████████████████| 35/35 [00:08<00:00,  3.97it/s, loss=0.417]\n",
      "Epoch 16/20 [Validation]: 100%|████████████████████████████████████████████████████████████████████████████████████████████████| 12/12 [00:02<00:00,  5.12it/s, loss=0.987]\n"
     ]
    },
    {
     "name": "stdout",
     "output_type": "stream",
     "text": [
      "\n",
      "Epoch: 16 \tTraining Loss: 0.310920 \tValidation Loss: 0.180544\n"
     ]
    },
    {
     "name": "stderr",
     "output_type": "stream",
     "text": [
      "Epoch 17/20 [Training]: 100%|██████████████████████████████████████████████████████████████████████████████████████████████████| 35/35 [00:08<00:00,  3.97it/s, loss=0.397]\n",
      "Epoch 17/20 [Validation]: 100%|████████████████████████████████████████████████████████████████████████████████████████████████| 12/12 [00:02<00:00,  5.15it/s, loss=0.913]\n"
     ]
    },
    {
     "name": "stdout",
     "output_type": "stream",
     "text": [
      "\n",
      "Epoch: 17 \tTraining Loss: 0.277473 \tValidation Loss: 0.187789\n"
     ]
    },
    {
     "name": "stderr",
     "output_type": "stream",
     "text": [
      "Epoch 18/20 [Training]: 100%|██████████████████████████████████████████████████████████████████████████████████████████████████| 35/35 [00:08<00:00,  4.02it/s, loss=0.377]\n",
      "Epoch 18/20 [Validation]: 100%|█████████████████████████████████████████████████████████████████████████████████████████████████| 12/12 [00:02<00:00,  5.09it/s, loss=1.47]\n"
     ]
    },
    {
     "name": "stdout",
     "output_type": "stream",
     "text": [
      "\n",
      "Epoch: 18 \tTraining Loss: 0.277799 \tValidation Loss: 0.196550\n"
     ]
    },
    {
     "name": "stderr",
     "output_type": "stream",
     "text": [
      "Epoch 19/20 [Training]: 100%|██████████████████████████████████████████████████████████████████████████████████████████████████| 35/35 [00:08<00:00,  4.03it/s, loss=0.139]\n",
      "Epoch 19/20 [Validation]: 100%|█████████████████████████████████████████████████████████████████████████████████████████████████| 12/12 [00:02<00:00,  5.04it/s, loss=1.49]\n"
     ]
    },
    {
     "name": "stdout",
     "output_type": "stream",
     "text": [
      "\n",
      "Epoch: 19 \tTraining Loss: 0.239429 \tValidation Loss: 0.222164\n"
     ]
    },
    {
     "name": "stderr",
     "output_type": "stream",
     "text": [
      "Epoch 20/20 [Training]: 100%|██████████████████████████████████████████████████████████████████████████████████████████████████| 35/35 [00:08<00:00,  4.02it/s, loss=0.373]\n",
      "Epoch 20/20 [Validation]: 100%|█████████████████████████████████████████████████████████████████████████████████████████████████| 12/12 [00:02<00:00,  5.19it/s, loss=1.19]"
     ]
    },
    {
     "name": "stdout",
     "output_type": "stream",
     "text": [
      "\n",
      "Epoch: 20 \tTraining Loss: 0.243388 \tValidation Loss: 0.195976\n"
     ]
    },
    {
     "name": "stderr",
     "output_type": "stream",
     "text": [
      "\n"
     ]
    }
   ],
   "source": [
    "# training lenet\n",
    "number_of_classes = 5  # Adjust based on your dataset\n",
    "# img_shape = (3, 32, 32)  # Adjust based on your dataset\n",
    "\n",
    "model = create_lenet(number_of_classes)\n",
    "\n",
    "model = model.to(device)\n",
    "criterion = nn.CrossEntropyLoss()\n",
    "optimizer = torch.optim.Adam(model.parameters(), lr=0.001)\n",
    "number_of_epochs = 20\n",
    "\n",
    "lenet_loss = train_model(model, criterion, optimizer, number_of_epochs)"
   ]
  },
  {
   "cell_type": "code",
   "execution_count": 13,
   "id": "912e3c37c4563033",
   "metadata": {
    "ExecuteTime": {
     "end_time": "2024-03-19T09:12:51.172660Z",
     "start_time": "2024-03-19T09:12:48.199326Z"
    },
    "collapsed": false,
    "jupyter": {
     "outputs_hidden": false
    }
   },
   "outputs": [
    {
     "name": "stdout",
     "output_type": "stream",
     "text": [
      "Test Accuracy of daisy: 66% (84/128)\n",
      "Test Accuracy of dandelion: 72% (121/168)\n",
      "Test Accuracy of roses: 40% (60/151)\n",
      "Test Accuracy of sunflowers: 73% (94/129)\n",
      "Test Accuracy of tulips: 66% (104/158)\n",
      "Overall Accuracy: 63.08%\n",
      "Test Loss: 0.243279\n",
      "Results for lenet have been updated in test_results.txt.\n"
     ]
    }
   ],
   "source": [
    "# testing lenet\n",
    "test_model(model, criterion, \"lenet\", results, lenet_loss)\n",
    "save_results_to_file(\"lenet\", results)"
   ]
  },
  {
   "cell_type": "code",
   "execution_count": 17,
   "id": "1e3bc4fc6e0f0758",
   "metadata": {
    "ExecuteTime": {
     "end_time": "2024-03-19T09:50:46.039Z",
     "start_time": "2024-03-19T09:29:59.235953Z"
    },
    "collapsed": false,
    "jupyter": {
     "outputs_hidden": false
    }
   },
   "outputs": [
    {
     "name": "stdout",
     "output_type": "stream",
     "text": [
      "AlexNet(\n",
      "  (features): Sequential(\n",
      "    (0): Conv2d(3, 64, kernel_size=(11, 11), stride=(4, 4), padding=(2, 2))\n",
      "    (1): ReLU(inplace=True)\n",
      "    (2): MaxPool2d(kernel_size=3, stride=2, padding=0, dilation=1, ceil_mode=False)\n",
      "    (3): Conv2d(64, 192, kernel_size=(5, 5), stride=(1, 1), padding=(2, 2))\n",
      "    (4): ReLU(inplace=True)\n",
      "    (5): MaxPool2d(kernel_size=3, stride=2, padding=0, dilation=1, ceil_mode=False)\n",
      "    (6): Conv2d(192, 384, kernel_size=(3, 3), stride=(1, 1), padding=(1, 1))\n",
      "    (7): ReLU(inplace=True)\n",
      "    (8): Conv2d(384, 256, kernel_size=(3, 3), stride=(1, 1), padding=(1, 1))\n",
      "    (9): ReLU(inplace=True)\n",
      "    (10): Conv2d(256, 256, kernel_size=(3, 3), stride=(1, 1), padding=(1, 1))\n",
      "    (11): ReLU(inplace=True)\n",
      "    (12): MaxPool2d(kernel_size=3, stride=2, padding=0, dilation=1, ceil_mode=False)\n",
      "  )\n",
      "  (classifier): Sequential(\n",
      "    (0): Dropout(p=0.5, inplace=False)\n",
      "    (1): Linear(in_features=9216, out_features=4096, bias=True)\n",
      "    (2): ReLU(inplace=True)\n",
      "    (3): Dropout(p=0.5, inplace=False)\n",
      "    (4): Linear(in_features=4096, out_features=4096, bias=True)\n",
      "    (5): ReLU(inplace=True)\n",
      "    (6): Linear(in_features=4096, out_features=5, bias=True)\n",
      "  )\n",
      ")\n",
      "The model has 57024325 trainable parameters\n"
     ]
    },
    {
     "name": "stderr",
     "output_type": "stream",
     "text": [
      "Epoch 1/60 [Training]: 100%|████████████████████████████████████████████████████████████████████████████████████████████████████| 35/35 [00:14<00:00,  2.38it/s, loss=1.17]\n",
      "Epoch 1/60 [Validation]: 100%|██████████████████████████████████████████████████████████████████████████████████████████████████| 12/12 [00:03<00:00,  3.48it/s, loss=1.32]\n"
     ]
    },
    {
     "name": "stdout",
     "output_type": "stream",
     "text": [
      "\n",
      "Epoch: 1 \tTraining Loss: 0.935288 \tValidation Loss: 0.268482\n"
     ]
    },
    {
     "name": "stderr",
     "output_type": "stream",
     "text": [
      "Epoch 2/60 [Training]: 100%|████████████████████████████████████████████████████████████████████████████████████████████████████| 35/35 [00:16<00:00,  2.16it/s, loss=1.01]\n",
      "Epoch 2/60 [Validation]: 100%|██████████████████████████████████████████████████████████████████████████████████████████████████| 12/12 [00:03<00:00,  3.35it/s, loss=1.13]\n"
     ]
    },
    {
     "name": "stdout",
     "output_type": "stream",
     "text": [
      "\n",
      "Epoch: 2 \tTraining Loss: 0.798988 \tValidation Loss: 0.258848\n"
     ]
    },
    {
     "name": "stderr",
     "output_type": "stream",
     "text": [
      "Epoch 3/60 [Training]: 100%|████████████████████████████████████████████████████████████████████████████████████████████████████| 35/35 [00:16<00:00,  2.12it/s, loss=1.43]\n",
      "Epoch 3/60 [Validation]: 100%|█████████████████████████████████████████████████████████████████████████████████████████████████| 12/12 [00:03<00:00,  3.31it/s, loss=0.996]\n"
     ]
    },
    {
     "name": "stdout",
     "output_type": "stream",
     "text": [
      "\n",
      "Epoch: 3 \tTraining Loss: 0.734273 \tValidation Loss: 0.224545\n"
     ]
    },
    {
     "name": "stderr",
     "output_type": "stream",
     "text": [
      "Epoch 4/60 [Training]: 100%|████████████████████████████████████████████████████████████████████████████████████████████████████| 35/35 [00:16<00:00,  2.11it/s, loss=1.31]\n",
      "Epoch 4/60 [Validation]: 100%|██████████████████████████████████████████████████████████████████████████████████████████████████| 12/12 [00:03<00:00,  3.34it/s, loss=1.16]\n"
     ]
    },
    {
     "name": "stdout",
     "output_type": "stream",
     "text": [
      "\n",
      "Epoch: 4 \tTraining Loss: 0.701304 \tValidation Loss: 0.246893\n"
     ]
    },
    {
     "name": "stderr",
     "output_type": "stream",
     "text": [
      "Epoch 5/60 [Training]: 100%|████████████████████████████████████████████████████████████████████████████████████████████████████| 35/35 [00:16<00:00,  2.12it/s, loss=1.17]\n",
      "Epoch 5/60 [Validation]: 100%|██████████████████████████████████████████████████████████████████████████████████████████████████| 12/12 [00:03<00:00,  3.34it/s, loss=1.23]\n"
     ]
    },
    {
     "name": "stdout",
     "output_type": "stream",
     "text": [
      "\n",
      "Epoch: 5 \tTraining Loss: 0.683288 \tValidation Loss: 0.226026\n"
     ]
    },
    {
     "name": "stderr",
     "output_type": "stream",
     "text": [
      "Epoch 6/60 [Training]: 100%|████████████████████████████████████████████████████████████████████████████████████████████████████| 35/35 [00:16<00:00,  2.12it/s, loss=1.03]\n",
      "Epoch 6/60 [Validation]: 100%|██████████████████████████████████████████████████████████████████████████████████████████████████| 12/12 [00:03<00:00,  3.31it/s, loss=1.06]\n"
     ]
    },
    {
     "name": "stdout",
     "output_type": "stream",
     "text": [
      "\n",
      "Epoch: 6 \tTraining Loss: 0.661501 \tValidation Loss: 0.211128\n"
     ]
    },
    {
     "name": "stderr",
     "output_type": "stream",
     "text": [
      "Epoch 7/60 [Training]: 100%|████████████████████████████████████████████████████████████████████████████████████████████████████| 35/35 [00:16<00:00,  2.12it/s, loss=1.08]\n",
      "Epoch 7/60 [Validation]: 100%|██████████████████████████████████████████████████████████████████████████████████████████████████| 12/12 [00:03<00:00,  3.27it/s, loss=1.18]\n"
     ]
    },
    {
     "name": "stdout",
     "output_type": "stream",
     "text": [
      "\n",
      "Epoch: 7 \tTraining Loss: 0.654663 \tValidation Loss: 0.202514\n"
     ]
    },
    {
     "name": "stderr",
     "output_type": "stream",
     "text": [
      "Epoch 8/60 [Training]: 100%|████████████████████████████████████████████████████████████████████████████████████████████████████| 35/35 [00:16<00:00,  2.11it/s, loss=1.06]\n",
      "Epoch 8/60 [Validation]: 100%|█████████████████████████████████████████████████████████████████████████████████████████████████| 12/12 [00:03<00:00,  3.27it/s, loss=0.932]\n"
     ]
    },
    {
     "name": "stdout",
     "output_type": "stream",
     "text": [
      "\n",
      "Epoch: 8 \tTraining Loss: 0.599518 \tValidation Loss: 0.223100\n"
     ]
    },
    {
     "name": "stderr",
     "output_type": "stream",
     "text": [
      "Epoch 9/60 [Training]: 100%|████████████████████████████████████████████████████████████████████████████████████████████████████| 35/35 [00:16<00:00,  2.11it/s, loss=1.02]\n",
      "Epoch 9/60 [Validation]: 100%|██████████████████████████████████████████████████████████████████████████████████████████████████| 12/12 [00:03<00:00,  3.33it/s, loss=1.07]\n"
     ]
    },
    {
     "name": "stdout",
     "output_type": "stream",
     "text": [
      "\n",
      "Epoch: 9 \tTraining Loss: 0.607326 \tValidation Loss: 0.193109\n"
     ]
    },
    {
     "name": "stderr",
     "output_type": "stream",
     "text": [
      "Epoch 10/60 [Training]: 100%|███████████████████████████████████████████████████████████████████████████████████████████████████| 35/35 [00:16<00:00,  2.10it/s, loss=1.04]\n",
      "Epoch 10/60 [Validation]: 100%|████████████████████████████████████████████████████████████████████████████████████████████████| 12/12 [00:03<00:00,  3.31it/s, loss=0.892]\n"
     ]
    },
    {
     "name": "stdout",
     "output_type": "stream",
     "text": [
      "\n",
      "Epoch: 10 \tTraining Loss: 0.588464 \tValidation Loss: 0.221379\n"
     ]
    },
    {
     "name": "stderr",
     "output_type": "stream",
     "text": [
      "Epoch 11/60 [Training]: 100%|███████████████████████████████████████████████████████████████████████████████████████████████████| 35/35 [00:16<00:00,  2.11it/s, loss=1.15]\n",
      "Epoch 11/60 [Validation]: 100%|█████████████████████████████████████████████████████████████████████████████████████████████████| 12/12 [00:03<00:00,  3.35it/s, loss=1.15]\n"
     ]
    },
    {
     "name": "stdout",
     "output_type": "stream",
     "text": [
      "\n",
      "Epoch: 11 \tTraining Loss: 0.573973 \tValidation Loss: 0.186995\n"
     ]
    },
    {
     "name": "stderr",
     "output_type": "stream",
     "text": [
      "Epoch 12/60 [Training]: 100%|██████████████████████████████████████████████████████████████████████████████████████████████████| 35/35 [00:16<00:00,  2.12it/s, loss=0.925]\n",
      "Epoch 12/60 [Validation]: 100%|████████████████████████████████████████████████████████████████████████████████████████████████| 12/12 [00:03<00:00,  3.36it/s, loss=0.801]\n"
     ]
    },
    {
     "name": "stdout",
     "output_type": "stream",
     "text": [
      "\n",
      "Epoch: 12 \tTraining Loss: 0.566387 \tValidation Loss: 0.189731\n"
     ]
    },
    {
     "name": "stderr",
     "output_type": "stream",
     "text": [
      "Epoch 13/60 [Training]: 100%|██████████████████████████████████████████████████████████████████████████████████████████████████| 35/35 [00:16<00:00,  2.13it/s, loss=0.891]\n",
      "Epoch 13/60 [Validation]: 100%|████████████████████████████████████████████████████████████████████████████████████████████████| 12/12 [00:03<00:00,  3.34it/s, loss=0.778]\n"
     ]
    },
    {
     "name": "stdout",
     "output_type": "stream",
     "text": [
      "\n",
      "Epoch: 13 \tTraining Loss: 0.522992 \tValidation Loss: 0.186131\n"
     ]
    },
    {
     "name": "stderr",
     "output_type": "stream",
     "text": [
      "Epoch 14/60 [Training]: 100%|██████████████████████████████████████████████████████████████████████████████████████████████████| 35/35 [00:16<00:00,  2.14it/s, loss=0.727]\n",
      "Epoch 14/60 [Validation]: 100%|█████████████████████████████████████████████████████████████████████████████████████████████████| 12/12 [00:03<00:00,  3.33it/s, loss=1.05]\n"
     ]
    },
    {
     "name": "stdout",
     "output_type": "stream",
     "text": [
      "\n",
      "Epoch: 14 \tTraining Loss: 0.536321 \tValidation Loss: 0.185297\n"
     ]
    },
    {
     "name": "stderr",
     "output_type": "stream",
     "text": [
      "Epoch 15/60 [Training]: 100%|██████████████████████████████████████████████████████████████████████████████████████████████████| 35/35 [00:16<00:00,  2.14it/s, loss=0.519]\n",
      "Epoch 15/60 [Validation]: 100%|████████████████████████████████████████████████████████████████████████████████████████████████| 12/12 [00:03<00:00,  3.33it/s, loss=0.808]\n"
     ]
    },
    {
     "name": "stdout",
     "output_type": "stream",
     "text": [
      "\n",
      "Epoch: 15 \tTraining Loss: 0.502189 \tValidation Loss: 0.170641\n"
     ]
    },
    {
     "name": "stderr",
     "output_type": "stream",
     "text": [
      "Epoch 16/60 [Training]: 100%|██████████████████████████████████████████████████████████████████████████████████████████████████| 35/35 [00:16<00:00,  2.15it/s, loss=0.728]\n",
      "Epoch 16/60 [Validation]: 100%|████████████████████████████████████████████████████████████████████████████████████████████████| 12/12 [00:03<00:00,  3.33it/s, loss=0.691]\n"
     ]
    },
    {
     "name": "stdout",
     "output_type": "stream",
     "text": [
      "\n",
      "Epoch: 16 \tTraining Loss: 0.478852 \tValidation Loss: 0.186067\n"
     ]
    },
    {
     "name": "stderr",
     "output_type": "stream",
     "text": [
      "Epoch 17/60 [Training]: 100%|███████████████████████████████████████████████████████████████████████████████████████████████████| 35/35 [00:16<00:00,  2.15it/s, loss=0.75]\n",
      "Epoch 17/60 [Validation]: 100%|████████████████████████████████████████████████████████████████████████████████████████████████| 12/12 [00:03<00:00,  3.36it/s, loss=0.887]\n"
     ]
    },
    {
     "name": "stdout",
     "output_type": "stream",
     "text": [
      "\n",
      "Epoch: 17 \tTraining Loss: 0.506535 \tValidation Loss: 0.186768\n"
     ]
    },
    {
     "name": "stderr",
     "output_type": "stream",
     "text": [
      "Epoch 18/60 [Training]: 100%|██████████████████████████████████████████████████████████████████████████████████████████████████| 35/35 [00:16<00:00,  2.13it/s, loss=0.695]\n",
      "Epoch 18/60 [Validation]: 100%|████████████████████████████████████████████████████████████████████████████████████████████████| 12/12 [00:03<00:00,  3.32it/s, loss=0.769]\n"
     ]
    },
    {
     "name": "stdout",
     "output_type": "stream",
     "text": [
      "\n",
      "Epoch: 18 \tTraining Loss: 0.458483 \tValidation Loss: 0.172703\n"
     ]
    },
    {
     "name": "stderr",
     "output_type": "stream",
     "text": [
      "Epoch 19/60 [Training]: 100%|██████████████████████████████████████████████████████████████████████████████████████████████████| 35/35 [00:16<00:00,  2.10it/s, loss=0.561]\n",
      "Epoch 19/60 [Validation]: 100%|████████████████████████████████████████████████████████████████████████████████████████████████| 12/12 [00:03<00:00,  3.30it/s, loss=0.784]\n"
     ]
    },
    {
     "name": "stdout",
     "output_type": "stream",
     "text": [
      "\n",
      "Epoch: 19 \tTraining Loss: 0.475860 \tValidation Loss: 0.171322\n"
     ]
    },
    {
     "name": "stderr",
     "output_type": "stream",
     "text": [
      "Epoch 20/60 [Training]: 100%|██████████████████████████████████████████████████████████████████████████████████████████████████| 35/35 [00:16<00:00,  2.09it/s, loss=0.717]\n",
      "Epoch 20/60 [Validation]: 100%|█████████████████████████████████████████████████████████████████████████████████████████████████| 12/12 [00:03<00:00,  3.28it/s, loss=1.19]\n"
     ]
    },
    {
     "name": "stdout",
     "output_type": "stream",
     "text": [
      "\n",
      "Epoch: 20 \tTraining Loss: 0.456371 \tValidation Loss: 0.178359\n"
     ]
    },
    {
     "name": "stderr",
     "output_type": "stream",
     "text": [
      "Epoch 21/60 [Training]: 100%|██████████████████████████████████████████████████████████████████████████████████████████████████| 35/35 [00:16<00:00,  2.09it/s, loss=0.556]\n",
      "Epoch 21/60 [Validation]: 100%|████████████████████████████████████████████████████████████████████████████████████████████████| 12/12 [00:03<00:00,  3.30it/s, loss=0.754]\n"
     ]
    },
    {
     "name": "stdout",
     "output_type": "stream",
     "text": [
      "\n",
      "Epoch: 21 \tTraining Loss: 0.442166 \tValidation Loss: 0.172115\n"
     ]
    },
    {
     "name": "stderr",
     "output_type": "stream",
     "text": [
      "Epoch 22/60 [Training]: 100%|██████████████████████████████████████████████████████████████████████████████████████████████████| 35/35 [00:16<00:00,  2.10it/s, loss=0.551]\n",
      "Epoch 22/60 [Validation]: 100%|████████████████████████████████████████████████████████████████████████████████████████████████| 12/12 [00:03<00:00,  3.22it/s, loss=0.642]\n"
     ]
    },
    {
     "name": "stdout",
     "output_type": "stream",
     "text": [
      "\n",
      "Epoch: 22 \tTraining Loss: 0.446011 \tValidation Loss: 0.167515\n"
     ]
    },
    {
     "name": "stderr",
     "output_type": "stream",
     "text": [
      "Epoch 23/60 [Training]: 100%|██████████████████████████████████████████████████████████████████████████████████████████████████| 35/35 [00:16<00:00,  2.10it/s, loss=0.532]\n",
      "Epoch 23/60 [Validation]: 100%|████████████████████████████████████████████████████████████████████████████████████████████████| 12/12 [00:03<00:00,  3.30it/s, loss=0.614]\n"
     ]
    },
    {
     "name": "stdout",
     "output_type": "stream",
     "text": [
      "\n",
      "Epoch: 23 \tTraining Loss: 0.414445 \tValidation Loss: 0.173360\n"
     ]
    },
    {
     "name": "stderr",
     "output_type": "stream",
     "text": [
      "Epoch 24/60 [Training]: 100%|██████████████████████████████████████████████████████████████████████████████████████████████████| 35/35 [00:16<00:00,  2.09it/s, loss=0.586]\n",
      "Epoch 24/60 [Validation]: 100%|█████████████████████████████████████████████████████████████████████████████████████████████████| 12/12 [00:03<00:00,  3.25it/s, loss=0.74]\n"
     ]
    },
    {
     "name": "stdout",
     "output_type": "stream",
     "text": [
      "\n",
      "Epoch: 24 \tTraining Loss: 0.408963 \tValidation Loss: 0.162348\n"
     ]
    },
    {
     "name": "stderr",
     "output_type": "stream",
     "text": [
      "Epoch 25/60 [Training]: 100%|██████████████████████████████████████████████████████████████████████████████████████████████████| 35/35 [00:16<00:00,  2.09it/s, loss=0.778]\n",
      "Epoch 25/60 [Validation]: 100%|████████████████████████████████████████████████████████████████████████████████████████████████| 12/12 [00:03<00:00,  3.28it/s, loss=0.711]\n"
     ]
    },
    {
     "name": "stdout",
     "output_type": "stream",
     "text": [
      "\n",
      "Epoch: 25 \tTraining Loss: 0.404175 \tValidation Loss: 0.159194\n"
     ]
    },
    {
     "name": "stderr",
     "output_type": "stream",
     "text": [
      "Epoch 26/60 [Training]: 100%|██████████████████████████████████████████████████████████████████████████████████████████████████| 35/35 [00:16<00:00,  2.11it/s, loss=0.834]\n",
      "Epoch 26/60 [Validation]: 100%|████████████████████████████████████████████████████████████████████████████████████████████████| 12/12 [00:03<00:00,  3.33it/s, loss=0.724]\n"
     ]
    },
    {
     "name": "stdout",
     "output_type": "stream",
     "text": [
      "\n",
      "Epoch: 26 \tTraining Loss: 0.416630 \tValidation Loss: 0.162609\n"
     ]
    },
    {
     "name": "stderr",
     "output_type": "stream",
     "text": [
      "Epoch 27/60 [Training]: 100%|██████████████████████████████████████████████████████████████████████████████████████████████████| 35/35 [00:16<00:00,  2.12it/s, loss=0.459]\n",
      "Epoch 27/60 [Validation]: 100%|████████████████████████████████████████████████████████████████████████████████████████████████| 12/12 [00:03<00:00,  3.24it/s, loss=0.621]\n"
     ]
    },
    {
     "name": "stdout",
     "output_type": "stream",
     "text": [
      "\n",
      "Epoch: 27 \tTraining Loss: 0.398439 \tValidation Loss: 0.187609\n"
     ]
    },
    {
     "name": "stderr",
     "output_type": "stream",
     "text": [
      "Epoch 28/60 [Training]: 100%|██████████████████████████████████████████████████████████████████████████████████████████████████| 35/35 [00:16<00:00,  2.11it/s, loss=0.827]\n",
      "Epoch 28/60 [Validation]: 100%|████████████████████████████████████████████████████████████████████████████████████████████████| 12/12 [00:03<00:00,  3.52it/s, loss=0.807]\n"
     ]
    },
    {
     "name": "stdout",
     "output_type": "stream",
     "text": [
      "\n",
      "Epoch: 28 \tTraining Loss: 0.398257 \tValidation Loss: 0.162037\n"
     ]
    },
    {
     "name": "stderr",
     "output_type": "stream",
     "text": [
      "Epoch 29/60 [Training]: 100%|██████████████████████████████████████████████████████████████████████████████████████████████████| 35/35 [00:16<00:00,  2.17it/s, loss=0.514]\n",
      "Epoch 29/60 [Validation]: 100%|████████████████████████████████████████████████████████████████████████████████████████████████| 12/12 [00:03<00:00,  3.42it/s, loss=0.581]\n"
     ]
    },
    {
     "name": "stdout",
     "output_type": "stream",
     "text": [
      "\n",
      "Epoch: 29 \tTraining Loss: 0.387175 \tValidation Loss: 0.152370\n"
     ]
    },
    {
     "name": "stderr",
     "output_type": "stream",
     "text": [
      "Epoch 30/60 [Training]: 100%|████████████████████████████████████████████████████████████████████████████████████████████████████| 35/35 [00:16<00:00,  2.10it/s, loss=0.5]\n",
      "Epoch 30/60 [Validation]: 100%|█████████████████████████████████████████████████████████████████████████████████████████████████| 12/12 [00:03<00:00,  3.25it/s, loss=0.61]\n"
     ]
    },
    {
     "name": "stdout",
     "output_type": "stream",
     "text": [
      "\n",
      "Epoch: 30 \tTraining Loss: 0.391669 \tValidation Loss: 0.176145\n"
     ]
    },
    {
     "name": "stderr",
     "output_type": "stream",
     "text": [
      "Epoch 31/60 [Training]: 100%|██████████████████████████████████████████████████████████████████████████████████████████████████| 35/35 [00:16<00:00,  2.08it/s, loss=0.397]\n",
      "Epoch 31/60 [Validation]: 100%|████████████████████████████████████████████████████████████████████████████████████████████████| 12/12 [00:03<00:00,  3.33it/s, loss=0.778]\n"
     ]
    },
    {
     "name": "stdout",
     "output_type": "stream",
     "text": [
      "\n",
      "Epoch: 31 \tTraining Loss: 0.360618 \tValidation Loss: 0.155654\n"
     ]
    },
    {
     "name": "stderr",
     "output_type": "stream",
     "text": [
      "Epoch 32/60 [Training]: 100%|██████████████████████████████████████████████████████████████████████████████████████████████████| 35/35 [00:16<00:00,  2.09it/s, loss=0.593]\n",
      "Epoch 32/60 [Validation]: 100%|████████████████████████████████████████████████████████████████████████████████████████████████| 12/12 [00:03<00:00,  3.27it/s, loss=0.815]\n"
     ]
    },
    {
     "name": "stdout",
     "output_type": "stream",
     "text": [
      "\n",
      "Epoch: 32 \tTraining Loss: 0.358216 \tValidation Loss: 0.178810\n"
     ]
    },
    {
     "name": "stderr",
     "output_type": "stream",
     "text": [
      "Epoch 33/60 [Training]: 100%|██████████████████████████████████████████████████████████████████████████████████████████████████| 35/35 [00:16<00:00,  2.11it/s, loss=0.622]\n",
      "Epoch 33/60 [Validation]: 100%|████████████████████████████████████████████████████████████████████████████████████████████████| 12/12 [00:03<00:00,  3.33it/s, loss=0.972]\n"
     ]
    },
    {
     "name": "stdout",
     "output_type": "stream",
     "text": [
      "\n",
      "Epoch: 33 \tTraining Loss: 0.378227 \tValidation Loss: 0.164301\n"
     ]
    },
    {
     "name": "stderr",
     "output_type": "stream",
     "text": [
      "Epoch 34/60 [Training]: 100%|██████████████████████████████████████████████████████████████████████████████████████████████████| 35/35 [00:16<00:00,  2.12it/s, loss=0.758]\n",
      "Epoch 34/60 [Validation]: 100%|████████████████████████████████████████████████████████████████████████████████████████████████| 12/12 [00:03<00:00,  3.32it/s, loss=0.935]\n"
     ]
    },
    {
     "name": "stdout",
     "output_type": "stream",
     "text": [
      "\n",
      "Epoch: 34 \tTraining Loss: 0.356306 \tValidation Loss: 0.159954\n"
     ]
    },
    {
     "name": "stderr",
     "output_type": "stream",
     "text": [
      "Epoch 35/60 [Training]: 100%|██████████████████████████████████████████████████████████████████████████████████████████████████| 35/35 [00:16<00:00,  2.12it/s, loss=0.385]\n",
      "Epoch 35/60 [Validation]: 100%|█████████████████████████████████████████████████████████████████████████████████████████████████| 12/12 [00:03<00:00,  3.34it/s, loss=1.12]\n"
     ]
    },
    {
     "name": "stdout",
     "output_type": "stream",
     "text": [
      "\n",
      "Epoch: 35 \tTraining Loss: 0.328443 \tValidation Loss: 0.182568\n"
     ]
    },
    {
     "name": "stderr",
     "output_type": "stream",
     "text": [
      "Epoch 36/60 [Training]: 100%|██████████████████████████████████████████████████████████████████████████████████████████████████| 35/35 [00:16<00:00,  2.10it/s, loss=0.676]\n",
      "Epoch 36/60 [Validation]: 100%|████████████████████████████████████████████████████████████████████████████████████████████████| 12/12 [00:03<00:00,  3.31it/s, loss=0.722]\n"
     ]
    },
    {
     "name": "stdout",
     "output_type": "stream",
     "text": [
      "\n",
      "Epoch: 36 \tTraining Loss: 0.347004 \tValidation Loss: 0.150996\n"
     ]
    },
    {
     "name": "stderr",
     "output_type": "stream",
     "text": [
      "Epoch 37/60 [Training]: 100%|██████████████████████████████████████████████████████████████████████████████████████████████████| 35/35 [00:16<00:00,  2.09it/s, loss=0.518]\n",
      "Epoch 37/60 [Validation]: 100%|████████████████████████████████████████████████████████████████████████████████████████████████| 12/12 [00:03<00:00,  3.28it/s, loss=0.605]\n"
     ]
    },
    {
     "name": "stdout",
     "output_type": "stream",
     "text": [
      "\n",
      "Epoch: 37 \tTraining Loss: 0.336880 \tValidation Loss: 0.154733\n"
     ]
    },
    {
     "name": "stderr",
     "output_type": "stream",
     "text": [
      "Epoch 38/60 [Training]: 100%|██████████████████████████████████████████████████████████████████████████████████████████████████| 35/35 [00:16<00:00,  2.10it/s, loss=0.303]\n",
      "Epoch 38/60 [Validation]: 100%|█████████████████████████████████████████████████████████████████████████████████████████████████| 12/12 [00:03<00:00,  3.31it/s, loss=1.75]\n"
     ]
    },
    {
     "name": "stdout",
     "output_type": "stream",
     "text": [
      "\n",
      "Epoch: 38 \tTraining Loss: 0.341160 \tValidation Loss: 0.156407\n"
     ]
    },
    {
     "name": "stderr",
     "output_type": "stream",
     "text": [
      "Epoch 39/60 [Training]: 100%|██████████████████████████████████████████████████████████████████████████████████████████████████| 35/35 [00:16<00:00,  2.11it/s, loss=0.639]\n",
      "Epoch 39/60 [Validation]: 100%|█████████████████████████████████████████████████████████████████████████████████████████████████| 12/12 [00:03<00:00,  3.30it/s, loss=0.72]\n"
     ]
    },
    {
     "name": "stdout",
     "output_type": "stream",
     "text": [
      "\n",
      "Epoch: 39 \tTraining Loss: 0.310443 \tValidation Loss: 0.165358\n"
     ]
    },
    {
     "name": "stderr",
     "output_type": "stream",
     "text": [
      "Epoch 40/60 [Training]: 100%|██████████████████████████████████████████████████████████████████████████████████████████████████| 35/35 [00:16<00:00,  2.12it/s, loss=0.429]\n",
      "Epoch 40/60 [Validation]: 100%|████████████████████████████████████████████████████████████████████████████████████████████████| 12/12 [00:03<00:00,  3.28it/s, loss=0.648]\n"
     ]
    },
    {
     "name": "stdout",
     "output_type": "stream",
     "text": [
      "\n",
      "Epoch: 40 \tTraining Loss: 0.331469 \tValidation Loss: 0.165441\n"
     ]
    },
    {
     "name": "stderr",
     "output_type": "stream",
     "text": [
      "Epoch 41/60 [Training]: 100%|██████████████████████████████████████████████████████████████████████████████████████████████████| 35/35 [00:16<00:00,  2.11it/s, loss=0.722]\n",
      "Epoch 41/60 [Validation]: 100%|████████████████████████████████████████████████████████████████████████████████████████████████| 12/12 [00:03<00:00,  3.30it/s, loss=0.656]\n"
     ]
    },
    {
     "name": "stdout",
     "output_type": "stream",
     "text": [
      "\n",
      "Epoch: 41 \tTraining Loss: 0.300070 \tValidation Loss: 0.183540\n"
     ]
    },
    {
     "name": "stderr",
     "output_type": "stream",
     "text": [
      "Epoch 42/60 [Training]: 100%|██████████████████████████████████████████████████████████████████████████████████████████████████| 35/35 [00:16<00:00,  2.11it/s, loss=0.367]\n",
      "Epoch 42/60 [Validation]: 100%|█████████████████████████████████████████████████████████████████████████████████████████████████| 12/12 [00:03<00:00,  3.32it/s, loss=1.18]\n"
     ]
    },
    {
     "name": "stdout",
     "output_type": "stream",
     "text": [
      "\n",
      "Epoch: 42 \tTraining Loss: 0.306121 \tValidation Loss: 0.166577\n"
     ]
    },
    {
     "name": "stderr",
     "output_type": "stream",
     "text": [
      "Epoch 43/60 [Training]: 100%|██████████████████████████████████████████████████████████████████████████████████████████████████| 35/35 [00:16<00:00,  2.13it/s, loss=0.262]\n",
      "Epoch 43/60 [Validation]: 100%|█████████████████████████████████████████████████████████████████████████████████████████████████| 12/12 [00:03<00:00,  3.36it/s, loss=0.74]\n"
     ]
    },
    {
     "name": "stdout",
     "output_type": "stream",
     "text": [
      "\n",
      "Epoch: 43 \tTraining Loss: 0.296053 \tValidation Loss: 0.154619\n"
     ]
    },
    {
     "name": "stderr",
     "output_type": "stream",
     "text": [
      "Epoch 44/60 [Training]: 100%|██████████████████████████████████████████████████████████████████████████████████████████████████| 35/35 [00:16<00:00,  2.10it/s, loss=0.617]\n",
      "Epoch 44/60 [Validation]: 100%|█████████████████████████████████████████████████████████████████████████████████████████████████| 12/12 [00:03<00:00,  3.29it/s, loss=1.14]\n"
     ]
    },
    {
     "name": "stdout",
     "output_type": "stream",
     "text": [
      "\n",
      "Epoch: 44 \tTraining Loss: 0.284637 \tValidation Loss: 0.161533\n"
     ]
    },
    {
     "name": "stderr",
     "output_type": "stream",
     "text": [
      "Epoch 45/60 [Training]: 100%|██████████████████████████████████████████████████████████████████████████████████████████████████| 35/35 [00:16<00:00,  2.09it/s, loss=0.451]\n",
      "Epoch 45/60 [Validation]: 100%|████████████████████████████████████████████████████████████████████████████████████████████████| 12/12 [00:03<00:00,  3.35it/s, loss=0.733]\n"
     ]
    },
    {
     "name": "stdout",
     "output_type": "stream",
     "text": [
      "\n",
      "Epoch: 45 \tTraining Loss: 0.306083 \tValidation Loss: 0.180928\n"
     ]
    },
    {
     "name": "stderr",
     "output_type": "stream",
     "text": [
      "Epoch 46/60 [Training]: 100%|██████████████████████████████████████████████████████████████████████████████████████████████████| 35/35 [00:16<00:00,  2.10it/s, loss=0.462]\n",
      "Epoch 46/60 [Validation]: 100%|████████████████████████████████████████████████████████████████████████████████████████████████| 12/12 [00:03<00:00,  3.31it/s, loss=0.793]\n"
     ]
    },
    {
     "name": "stdout",
     "output_type": "stream",
     "text": [
      "\n",
      "Epoch: 46 \tTraining Loss: 0.295384 \tValidation Loss: 0.161155\n"
     ]
    },
    {
     "name": "stderr",
     "output_type": "stream",
     "text": [
      "Epoch 47/60 [Training]: 100%|██████████████████████████████████████████████████████████████████████████████████████████████████| 35/35 [00:16<00:00,  2.11it/s, loss=0.734]\n",
      "Epoch 47/60 [Validation]: 100%|████████████████████████████████████████████████████████████████████████████████████████████████| 12/12 [00:03<00:00,  3.50it/s, loss=0.534]\n"
     ]
    },
    {
     "name": "stdout",
     "output_type": "stream",
     "text": [
      "\n",
      "Epoch: 47 \tTraining Loss: 0.281173 \tValidation Loss: 0.151436\n"
     ]
    },
    {
     "name": "stderr",
     "output_type": "stream",
     "text": [
      "Epoch 48/60 [Training]: 100%|██████████████████████████████████████████████████████████████████████████████████████████████████| 35/35 [00:15<00:00,  2.22it/s, loss=0.713]\n",
      "Epoch 48/60 [Validation]: 100%|████████████████████████████████████████████████████████████████████████████████████████████████| 12/12 [00:03<00:00,  3.61it/s, loss=0.753]\n"
     ]
    },
    {
     "name": "stdout",
     "output_type": "stream",
     "text": [
      "\n",
      "Epoch: 48 \tTraining Loss: 0.269345 \tValidation Loss: 0.181446\n"
     ]
    },
    {
     "name": "stderr",
     "output_type": "stream",
     "text": [
      "Epoch 49/60 [Training]: 100%|██████████████████████████████████████████████████████████████████████████████████████████████████| 35/35 [00:15<00:00,  2.25it/s, loss=0.562]\n",
      "Epoch 49/60 [Validation]: 100%|████████████████████████████████████████████████████████████████████████████████████████████████| 12/12 [00:03<00:00,  3.70it/s, loss=0.952]\n"
     ]
    },
    {
     "name": "stdout",
     "output_type": "stream",
     "text": [
      "\n",
      "Epoch: 49 \tTraining Loss: 0.262572 \tValidation Loss: 0.169995\n"
     ]
    },
    {
     "name": "stderr",
     "output_type": "stream",
     "text": [
      "Epoch 50/60 [Training]: 100%|██████████████████████████████████████████████████████████████████████████████████████████████████| 35/35 [00:15<00:00,  2.31it/s, loss=0.412]\n",
      "Epoch 50/60 [Validation]: 100%|████████████████████████████████████████████████████████████████████████████████████████████████| 12/12 [00:03<00:00,  3.84it/s, loss=0.769]\n"
     ]
    },
    {
     "name": "stdout",
     "output_type": "stream",
     "text": [
      "\n",
      "Epoch: 50 \tTraining Loss: 0.294728 \tValidation Loss: 0.148291\n"
     ]
    },
    {
     "name": "stderr",
     "output_type": "stream",
     "text": [
      "Epoch 51/60 [Training]: 100%|██████████████████████████████████████████████████████████████████████████████████████████████████| 35/35 [00:14<00:00,  2.35it/s, loss=0.321]\n",
      "Epoch 51/60 [Validation]: 100%|█████████████████████████████████████████████████████████████████████████████████████████████████| 12/12 [00:03<00:00,  3.88it/s, loss=1.24]\n"
     ]
    },
    {
     "name": "stdout",
     "output_type": "stream",
     "text": [
      "\n",
      "Epoch: 51 \tTraining Loss: 0.290263 \tValidation Loss: 0.162101\n"
     ]
    },
    {
     "name": "stderr",
     "output_type": "stream",
     "text": [
      "Epoch 52/60 [Training]: 100%|██████████████████████████████████████████████████████████████████████████████████████████████████| 35/35 [00:14<00:00,  2.42it/s, loss=0.562]\n",
      "Epoch 52/60 [Validation]: 100%|████████████████████████████████████████████████████████████████████████████████████████████████| 12/12 [00:02<00:00,  4.17it/s, loss=0.598]\n"
     ]
    },
    {
     "name": "stdout",
     "output_type": "stream",
     "text": [
      "\n",
      "Epoch: 52 \tTraining Loss: 0.257827 \tValidation Loss: 0.193201\n"
     ]
    },
    {
     "name": "stderr",
     "output_type": "stream",
     "text": [
      "Epoch 53/60 [Training]: 100%|██████████████████████████████████████████████████████████████████████████████████████████████████| 35/35 [00:14<00:00,  2.45it/s, loss=0.387]\n",
      "Epoch 53/60 [Validation]: 100%|████████████████████████████████████████████████████████████████████████████████████████████████| 12/12 [00:02<00:00,  4.32it/s, loss=0.869]\n"
     ]
    },
    {
     "name": "stdout",
     "output_type": "stream",
     "text": [
      "\n",
      "Epoch: 53 \tTraining Loss: 0.251981 \tValidation Loss: 0.185997\n"
     ]
    },
    {
     "name": "stderr",
     "output_type": "stream",
     "text": [
      "Epoch 54/60 [Training]: 100%|██████████████████████████████████████████████████████████████████████████████████████████████████| 35/35 [00:14<00:00,  2.44it/s, loss=0.439]\n",
      "Epoch 54/60 [Validation]: 100%|████████████████████████████████████████████████████████████████████████████████████████████████| 12/12 [00:02<00:00,  4.33it/s, loss=0.805]\n"
     ]
    },
    {
     "name": "stdout",
     "output_type": "stream",
     "text": [
      "\n",
      "Epoch: 54 \tTraining Loss: 0.293723 \tValidation Loss: 0.179680\n"
     ]
    },
    {
     "name": "stderr",
     "output_type": "stream",
     "text": [
      "Epoch 55/60 [Training]: 100%|██████████████████████████████████████████████████████████████████████████████████████████████████| 35/35 [00:14<00:00,  2.47it/s, loss=0.215]\n",
      "Epoch 55/60 [Validation]: 100%|█████████████████████████████████████████████████████████████████████████████████████████████████| 12/12 [00:02<00:00,  4.37it/s, loss=0.59]\n"
     ]
    },
    {
     "name": "stdout",
     "output_type": "stream",
     "text": [
      "\n",
      "Epoch: 55 \tTraining Loss: 0.264902 \tValidation Loss: 0.184527\n"
     ]
    },
    {
     "name": "stderr",
     "output_type": "stream",
     "text": [
      "Epoch 56/60 [Training]: 100%|███████████████████████████████████████████████████████████████████████████████████████████████████| 35/35 [00:14<00:00,  2.49it/s, loss=0.83]\n",
      "Epoch 56/60 [Validation]: 100%|████████████████████████████████████████████████████████████████████████████████████████████████| 12/12 [00:02<00:00,  4.31it/s, loss=0.585]\n"
     ]
    },
    {
     "name": "stdout",
     "output_type": "stream",
     "text": [
      "\n",
      "Epoch: 56 \tTraining Loss: 0.249046 \tValidation Loss: 0.191058\n"
     ]
    },
    {
     "name": "stderr",
     "output_type": "stream",
     "text": [
      "Epoch 57/60 [Training]: 100%|███████████████████████████████████████████████████████████████████████████████████████████████████| 35/35 [00:14<00:00,  2.47it/s, loss=0.61]\n",
      "Epoch 57/60 [Validation]: 100%|████████████████████████████████████████████████████████████████████████████████████████████████| 12/12 [00:02<00:00,  4.17it/s, loss=0.734]\n"
     ]
    },
    {
     "name": "stdout",
     "output_type": "stream",
     "text": [
      "\n",
      "Epoch: 57 \tTraining Loss: 0.253072 \tValidation Loss: 0.192919\n"
     ]
    },
    {
     "name": "stderr",
     "output_type": "stream",
     "text": [
      "Epoch 58/60 [Training]: 100%|███████████████████████████████████████████████████████████████████████████████████████████████████| 35/35 [00:14<00:00,  2.42it/s, loss=0.24]\n",
      "Epoch 58/60 [Validation]: 100%|████████████████████████████████████████████████████████████████████████████████████████████████| 12/12 [00:02<00:00,  4.22it/s, loss=0.866]\n"
     ]
    },
    {
     "name": "stdout",
     "output_type": "stream",
     "text": [
      "\n",
      "Epoch: 58 \tTraining Loss: 0.257960 \tValidation Loss: 0.203389\n"
     ]
    },
    {
     "name": "stderr",
     "output_type": "stream",
     "text": [
      "Epoch 59/60 [Training]: 100%|██████████████████████████████████████████████████████████████████████████████████████████████████| 35/35 [00:14<00:00,  2.44it/s, loss=0.732]\n",
      "Epoch 59/60 [Validation]: 100%|█████████████████████████████████████████████████████████████████████████████████████████████████| 12/12 [00:02<00:00,  4.27it/s, loss=0.82]\n"
     ]
    },
    {
     "name": "stdout",
     "output_type": "stream",
     "text": [
      "\n",
      "Epoch: 59 \tTraining Loss: 0.254330 \tValidation Loss: 0.168992\n"
     ]
    },
    {
     "name": "stderr",
     "output_type": "stream",
     "text": [
      "Epoch 60/60 [Training]: 100%|██████████████████████████████████████████████████████████████████████████████████████████████████| 35/35 [00:14<00:00,  2.43it/s, loss=0.447]\n",
      "Epoch 60/60 [Validation]: 100%|█████████████████████████████████████████████████████████████████████████████████████████████████| 12/12 [00:02<00:00,  4.22it/s, loss=0.58]"
     ]
    },
    {
     "name": "stdout",
     "output_type": "stream",
     "text": [
      "\n",
      "Epoch: 60 \tTraining Loss: 0.243102 \tValidation Loss: 0.164100\n"
     ]
    },
    {
     "name": "stderr",
     "output_type": "stream",
     "text": [
      "\n"
     ]
    }
   ],
   "source": [
    "# training alexnet\n",
    "number_of_classes = 5  # Adjust based on your dataset\n",
    "img_shape = (3, 224, 224)  # Adjust based on your dataset\n",
    "\n",
    "model = create_AlexNet(number_of_classes)\n",
    "\n",
    "model = model.to(device)\n",
    "criterion = nn.CrossEntropyLoss()\n",
    "optimizer = torch.optim.Adam(model.parameters(), lr=0.001)\n",
    "number_of_epochs = 60\n",
    "\n",
    "alexnet_loss = train_model(model, criterion, optimizer, number_of_epochs)"
   ]
  },
  {
   "cell_type": "code",
   "execution_count": 18,
   "id": "258e34916f685eac",
   "metadata": {
    "ExecuteTime": {
     "end_time": "2024-03-19T09:55:04.120468Z",
     "start_time": "2024-03-19T09:55:00.987960Z"
    },
    "collapsed": false,
    "jupyter": {
     "outputs_hidden": false
    }
   },
   "outputs": [
    {
     "name": "stdout",
     "output_type": "stream",
     "text": [
      "Test Accuracy of daisy: 66% (84/128)\n",
      "Test Accuracy of dandelion: 76% (127/168)\n",
      "Test Accuracy of roses: 60% (90/151)\n",
      "Test Accuracy of sunflowers: 76% (98/129)\n",
      "Test Accuracy of tulips: 73% (116/158)\n",
      "Overall Accuracy: 70.16%\n",
      "Test Loss: 0.197039\n",
      "Results for alexnet have been updated in test_results.txt.\n"
     ]
    }
   ],
   "source": [
    "# testing alexnet\n",
    "test_model(model, criterion, \"alexnet\", results, alexnet_loss)\n",
    "save_results_to_file(\"alexnet\", results)"
   ]
  },
  {
   "cell_type": "code",
   "execution_count": 32,
   "id": "eba1d20e-fe15-439a-bb3f-51e12b07d845",
   "metadata": {},
   "outputs": [
    {
     "name": "stdout",
     "output_type": "stream",
     "text": [
      "my_CNN_model(\n",
      "  (conv1): Conv2d(3, 16, kernel_size=(3, 3), stride=(1, 1), padding=(1, 1))\n",
      "  (conv2): Conv2d(16, 32, kernel_size=(3, 3), stride=(1, 1), padding=(1, 1))\n",
      "  (conv3): Conv2d(32, 64, kernel_size=(3, 3), stride=(1, 1), padding=(1, 1))\n",
      "  (conv4): Conv2d(64, 128, kernel_size=(3, 3), stride=(1, 1), padding=(1, 1))\n",
      "  (conv5): Conv2d(128, 256, kernel_size=(3, 3), stride=(1, 1), padding=(1, 1))\n",
      "  (pool): MaxPool2d(kernel_size=2, stride=2, padding=0, dilation=1, ceil_mode=False)\n",
      "  (dropout1): Dropout(p=0.25, inplace=False)\n",
      "  (dropout2): Dropout(p=0.3, inplace=False)\n",
      "  (dropout3): Dropout(p=0.4, inplace=False)\n",
      "  (fc1): Linear(in_features=12544, out_features=500, bias=True)\n",
      "  (fc2): Linear(in_features=500, out_features=5, bias=True)\n",
      ")\n"
     ]
    },
    {
     "name": "stderr",
     "output_type": "stream",
     "text": [
      "Epoch 1/35 [Training]: 100%|████████████████████████████████████████████████████████████████████████████████████████████████████| 35/35 [00:11<00:00,  3.16it/s, loss=1.61]\n",
      "Epoch 1/35 [Validation]: 100%|███████████████████████████████████████████████████████████████████████████████████████████████████| 12/12 [00:02<00:00,  5.24it/s, loss=1.6]\n"
     ]
    },
    {
     "name": "stdout",
     "output_type": "stream",
     "text": [
      "\n",
      "Epoch: 1 \tTraining Loss: 0.968729 \tValidation Loss: 0.319845\n"
     ]
    },
    {
     "name": "stderr",
     "output_type": "stream",
     "text": [
      "Epoch 2/35 [Training]: 100%|████████████████████████████████████████████████████████████████████████████████████████████████████| 35/35 [00:11<00:00,  3.16it/s, loss=1.49]\n",
      "Epoch 2/35 [Validation]: 100%|██████████████████████████████████████████████████████████████████████████████████████████████████| 12/12 [00:02<00:00,  5.35it/s, loss=1.38]\n"
     ]
    },
    {
     "name": "stdout",
     "output_type": "stream",
     "text": [
      "\n",
      "Epoch: 2 \tTraining Loss: 0.886495 \tValidation Loss: 0.277751\n"
     ]
    },
    {
     "name": "stderr",
     "output_type": "stream",
     "text": [
      "Epoch 3/35 [Training]: 100%|████████████████████████████████████████████████████████████████████████████████████████████████████| 35/35 [00:10<00:00,  3.32it/s, loss=1.05]\n",
      "Epoch 3/35 [Validation]: 100%|██████████████████████████████████████████████████████████████████████████████████████████████████| 12/12 [00:02<00:00,  5.69it/s, loss=1.23]\n"
     ]
    },
    {
     "name": "stdout",
     "output_type": "stream",
     "text": [
      "\n",
      "Epoch: 3 \tTraining Loss: 0.756333 \tValidation Loss: 0.233499\n"
     ]
    },
    {
     "name": "stderr",
     "output_type": "stream",
     "text": [
      "Epoch 4/35 [Training]: 100%|████████████████████████████████████████████████████████████████████████████████████████████████████| 35/35 [00:10<00:00,  3.20it/s, loss=1.02]\n",
      "Epoch 4/35 [Validation]: 100%|██████████████████████████████████████████████████████████████████████████████████████████████████| 12/12 [00:02<00:00,  5.28it/s, loss=1.23]\n"
     ]
    },
    {
     "name": "stdout",
     "output_type": "stream",
     "text": [
      "\n",
      "Epoch: 4 \tTraining Loss: 0.700912 \tValidation Loss: 0.228774\n"
     ]
    },
    {
     "name": "stderr",
     "output_type": "stream",
     "text": [
      "Epoch 5/35 [Training]: 100%|███████████████████████████████████████████████████████████████████████████████████████████████████| 35/35 [00:11<00:00,  3.11it/s, loss=0.998]\n",
      "Epoch 5/35 [Validation]: 100%|██████████████████████████████████████████████████████████████████████████████████████████████████| 12/12 [00:02<00:00,  4.99it/s, loss=1.33]\n"
     ]
    },
    {
     "name": "stdout",
     "output_type": "stream",
     "text": [
      "\n",
      "Epoch: 5 \tTraining Loss: 0.653378 \tValidation Loss: 0.229609\n"
     ]
    },
    {
     "name": "stderr",
     "output_type": "stream",
     "text": [
      "Epoch 6/35 [Training]: 100%|████████████████████████████████████████████████████████████████████████████████████████████████████| 35/35 [00:11<00:00,  3.04it/s, loss=1.02]\n",
      "Epoch 6/35 [Validation]: 100%|██████████████████████████████████████████████████████████████████████████████████████████████████| 12/12 [00:02<00:00,  4.69it/s, loss=1.22]\n"
     ]
    },
    {
     "name": "stdout",
     "output_type": "stream",
     "text": [
      "\n",
      "Epoch: 6 \tTraining Loss: 0.600668 \tValidation Loss: 0.193352\n"
     ]
    },
    {
     "name": "stderr",
     "output_type": "stream",
     "text": [
      "Epoch 7/35 [Training]: 100%|███████████████████████████████████████████████████████████████████████████████████████████████████| 35/35 [00:11<00:00,  3.00it/s, loss=0.912]\n",
      "Epoch 7/35 [Validation]: 100%|█████████████████████████████████████████████████████████████████████████████████████████████████| 12/12 [00:02<00:00,  4.39it/s, loss=0.802]\n"
     ]
    },
    {
     "name": "stdout",
     "output_type": "stream",
     "text": [
      "\n",
      "Epoch: 7 \tTraining Loss: 0.576780 \tValidation Loss: 0.189709\n"
     ]
    },
    {
     "name": "stderr",
     "output_type": "stream",
     "text": [
      "Epoch 8/35 [Training]: 100%|███████████████████████████████████████████████████████████████████████████████████████████████████| 35/35 [00:11<00:00,  2.97it/s, loss=0.895]\n",
      "Epoch 8/35 [Validation]: 100%|█████████████████████████████████████████████████████████████████████████████████████████████████| 12/12 [00:02<00:00,  4.54it/s, loss=0.741]\n"
     ]
    },
    {
     "name": "stdout",
     "output_type": "stream",
     "text": [
      "\n",
      "Epoch: 8 \tTraining Loss: 0.534818 \tValidation Loss: 0.186207\n"
     ]
    },
    {
     "name": "stderr",
     "output_type": "stream",
     "text": [
      "Epoch 9/35 [Training]: 100%|███████████████████████████████████████████████████████████████████████████████████████████████████| 35/35 [00:12<00:00,  2.90it/s, loss=0.676]\n",
      "Epoch 9/35 [Validation]: 100%|█████████████████████████████████████████████████████████████████████████████████████████████████| 12/12 [00:02<00:00,  4.37it/s, loss=0.967]\n"
     ]
    },
    {
     "name": "stdout",
     "output_type": "stream",
     "text": [
      "\n",
      "Epoch: 9 \tTraining Loss: 0.494635 \tValidation Loss: 0.188325\n"
     ]
    },
    {
     "name": "stderr",
     "output_type": "stream",
     "text": [
      "Epoch 10/35 [Training]: 100%|██████████████████████████████████████████████████████████████████████████████████████████████████| 35/35 [00:11<00:00,  2.97it/s, loss=0.915]\n",
      "Epoch 10/35 [Validation]: 100%|████████████████████████████████████████████████████████████████████████████████████████████████| 12/12 [00:02<00:00,  4.62it/s, loss=0.828]\n"
     ]
    },
    {
     "name": "stdout",
     "output_type": "stream",
     "text": [
      "\n",
      "Epoch: 10 \tTraining Loss: 0.499505 \tValidation Loss: 0.170642\n"
     ]
    },
    {
     "name": "stderr",
     "output_type": "stream",
     "text": [
      "Epoch 11/35 [Training]: 100%|███████████████████████████████████████████████████████████████████████████████████████████████████| 35/35 [00:11<00:00,  2.92it/s, loss=1.13]\n",
      "Epoch 11/35 [Validation]: 100%|████████████████████████████████████████████████████████████████████████████████████████████████| 12/12 [00:02<00:00,  4.59it/s, loss=0.767]\n"
     ]
    },
    {
     "name": "stdout",
     "output_type": "stream",
     "text": [
      "\n",
      "Epoch: 11 \tTraining Loss: 0.492719 \tValidation Loss: 0.165852\n"
     ]
    },
    {
     "name": "stderr",
     "output_type": "stream",
     "text": [
      "Epoch 12/35 [Training]: 100%|██████████████████████████████████████████████████████████████████████████████████████████████████| 35/35 [00:12<00:00,  2.84it/s, loss=0.576]\n",
      "Epoch 12/35 [Validation]: 100%|████████████████████████████████████████████████████████████████████████████████████████████████| 12/12 [00:02<00:00,  4.41it/s, loss=0.992]\n"
     ]
    },
    {
     "name": "stdout",
     "output_type": "stream",
     "text": [
      "\n",
      "Epoch: 12 \tTraining Loss: 0.464395 \tValidation Loss: 0.168378\n"
     ]
    },
    {
     "name": "stderr",
     "output_type": "stream",
     "text": [
      "Epoch 13/35 [Training]: 100%|██████████████████████████████████████████████████████████████████████████████████████████████████| 35/35 [00:12<00:00,  2.84it/s, loss=0.733]\n",
      "Epoch 13/35 [Validation]: 100%|████████████████████████████████████████████████████████████████████████████████████████████████| 12/12 [00:02<00:00,  4.40it/s, loss=0.718]\n"
     ]
    },
    {
     "name": "stdout",
     "output_type": "stream",
     "text": [
      "\n",
      "Epoch: 13 \tTraining Loss: 0.427990 \tValidation Loss: 0.178277\n"
     ]
    },
    {
     "name": "stderr",
     "output_type": "stream",
     "text": [
      "Epoch 14/35 [Training]: 100%|██████████████████████████████████████████████████████████████████████████████████████████████████| 35/35 [00:12<00:00,  2.90it/s, loss=0.503]\n",
      "Epoch 14/35 [Validation]: 100%|████████████████████████████████████████████████████████████████████████████████████████████████| 12/12 [00:02<00:00,  4.43it/s, loss=0.696]\n"
     ]
    },
    {
     "name": "stdout",
     "output_type": "stream",
     "text": [
      "\n",
      "Epoch: 14 \tTraining Loss: 0.433566 \tValidation Loss: 0.160380\n"
     ]
    },
    {
     "name": "stderr",
     "output_type": "stream",
     "text": [
      "Epoch 15/35 [Training]: 100%|███████████████████████████████████████████████████████████████████████████████████████████████████| 35/35 [00:11<00:00,  2.93it/s, loss=0.65]\n",
      "Epoch 15/35 [Validation]: 100%|████████████████████████████████████████████████████████████████████████████████████████████████| 12/12 [00:02<00:00,  4.45it/s, loss=0.858]\n"
     ]
    },
    {
     "name": "stdout",
     "output_type": "stream",
     "text": [
      "\n",
      "Epoch: 15 \tTraining Loss: 0.428266 \tValidation Loss: 0.167124\n"
     ]
    },
    {
     "name": "stderr",
     "output_type": "stream",
     "text": [
      "Epoch 16/35 [Training]: 100%|██████████████████████████████████████████████████████████████████████████████████████████████████| 35/35 [00:12<00:00,  2.82it/s, loss=0.424]\n",
      "Epoch 16/35 [Validation]: 100%|████████████████████████████████████████████████████████████████████████████████████████████████| 12/12 [00:02<00:00,  4.06it/s, loss=0.856]\n"
     ]
    },
    {
     "name": "stdout",
     "output_type": "stream",
     "text": [
      "\n",
      "Epoch: 16 \tTraining Loss: 0.396620 \tValidation Loss: 0.146056\n"
     ]
    },
    {
     "name": "stderr",
     "output_type": "stream",
     "text": [
      "Epoch 17/35 [Training]: 100%|██████████████████████████████████████████████████████████████████████████████████████████████████| 35/35 [00:13<00:00,  2.53it/s, loss=0.736]\n",
      "Epoch 17/35 [Validation]: 100%|████████████████████████████████████████████████████████████████████████████████████████████████| 12/12 [00:03<00:00,  3.42it/s, loss=0.817]\n"
     ]
    },
    {
     "name": "stdout",
     "output_type": "stream",
     "text": [
      "\n",
      "Epoch: 17 \tTraining Loss: 0.382574 \tValidation Loss: 0.145925\n"
     ]
    },
    {
     "name": "stderr",
     "output_type": "stream",
     "text": [
      "Epoch 18/35 [Training]: 100%|██████████████████████████████████████████████████████████████████████████████████████████████████| 35/35 [00:15<00:00,  2.30it/s, loss=0.586]\n",
      "Epoch 18/35 [Validation]: 100%|████████████████████████████████████████████████████████████████████████████████████████████████| 12/12 [00:03<00:00,  3.19it/s, loss=0.858]\n"
     ]
    },
    {
     "name": "stdout",
     "output_type": "stream",
     "text": [
      "\n",
      "Epoch: 18 \tTraining Loss: 0.372958 \tValidation Loss: 0.150546\n"
     ]
    },
    {
     "name": "stderr",
     "output_type": "stream",
     "text": [
      "Epoch 19/35 [Training]: 100%|██████████████████████████████████████████████████████████████████████████████████████████████████| 35/35 [00:16<00:00,  2.18it/s, loss=0.573]\n",
      "Epoch 19/35 [Validation]: 100%|████████████████████████████████████████████████████████████████████████████████████████████████| 12/12 [00:03<00:00,  3.24it/s, loss=0.774]\n"
     ]
    },
    {
     "name": "stdout",
     "output_type": "stream",
     "text": [
      "\n",
      "Epoch: 19 \tTraining Loss: 0.365650 \tValidation Loss: 0.154010\n"
     ]
    },
    {
     "name": "stderr",
     "output_type": "stream",
     "text": [
      "Epoch 20/35 [Training]: 100%|██████████████████████████████████████████████████████████████████████████████████████████████████| 35/35 [00:15<00:00,  2.29it/s, loss=0.799]\n",
      "Epoch 20/35 [Validation]: 100%|█████████████████████████████████████████████████████████████████████████████████████████████████| 12/12 [00:03<00:00,  3.26it/s, loss=0.48]\n"
     ]
    },
    {
     "name": "stdout",
     "output_type": "stream",
     "text": [
      "\n",
      "Epoch: 20 \tTraining Loss: 0.355642 \tValidation Loss: 0.140120\n"
     ]
    },
    {
     "name": "stderr",
     "output_type": "stream",
     "text": [
      "Epoch 21/35 [Training]: 100%|██████████████████████████████████████████████████████████████████████████████████████████████████| 35/35 [00:15<00:00,  2.25it/s, loss=0.579]\n",
      "Epoch 21/35 [Validation]: 100%|████████████████████████████████████████████████████████████████████████████████████████████████| 12/12 [00:03<00:00,  3.20it/s, loss=0.538]\n"
     ]
    },
    {
     "name": "stdout",
     "output_type": "stream",
     "text": [
      "\n",
      "Epoch: 21 \tTraining Loss: 0.368483 \tValidation Loss: 0.160700\n"
     ]
    },
    {
     "name": "stderr",
     "output_type": "stream",
     "text": [
      "Epoch 22/35 [Training]: 100%|██████████████████████████████████████████████████████████████████████████████████████████████████| 35/35 [00:15<00:00,  2.24it/s, loss=0.458]\n",
      "Epoch 22/35 [Validation]: 100%|████████████████████████████████████████████████████████████████████████████████████████████████| 12/12 [00:03<00:00,  3.44it/s, loss=0.742]\n"
     ]
    },
    {
     "name": "stdout",
     "output_type": "stream",
     "text": [
      "\n",
      "Epoch: 22 \tTraining Loss: 0.347566 \tValidation Loss: 0.147516\n"
     ]
    },
    {
     "name": "stderr",
     "output_type": "stream",
     "text": [
      "Epoch 23/35 [Training]: 100%|██████████████████████████████████████████████████████████████████████████████████████████████████| 35/35 [00:14<00:00,  2.43it/s, loss=0.313]\n",
      "Epoch 23/35 [Validation]: 100%|████████████████████████████████████████████████████████████████████████████████████████████████| 12/12 [00:03<00:00,  3.59it/s, loss=0.919]\n"
     ]
    },
    {
     "name": "stdout",
     "output_type": "stream",
     "text": [
      "\n",
      "Epoch: 23 \tTraining Loss: 0.330171 \tValidation Loss: 0.140402\n"
     ]
    },
    {
     "name": "stderr",
     "output_type": "stream",
     "text": [
      "Epoch 24/35 [Training]: 100%|██████████████████████████████████████████████████████████████████████████████████████████████████| 35/35 [00:14<00:00,  2.39it/s, loss=0.515]\n",
      "Epoch 24/35 [Validation]: 100%|█████████████████████████████████████████████████████████████████████████████████████████████████| 12/12 [00:03<00:00,  3.40it/s, loss=0.85]\n"
     ]
    },
    {
     "name": "stdout",
     "output_type": "stream",
     "text": [
      "\n",
      "Epoch: 24 \tTraining Loss: 0.349376 \tValidation Loss: 0.145261\n"
     ]
    },
    {
     "name": "stderr",
     "output_type": "stream",
     "text": [
      "Epoch 25/35 [Training]: 100%|███████████████████████████████████████████████████████████████████████████████████████████████████| 35/35 [00:14<00:00,  2.35it/s, loss=1.01]\n",
      "Epoch 25/35 [Validation]: 100%|████████████████████████████████████████████████████████████████████████████████████████████████| 12/12 [00:03<00:00,  3.00it/s, loss=0.564]\n"
     ]
    },
    {
     "name": "stdout",
     "output_type": "stream",
     "text": [
      "\n",
      "Epoch: 25 \tTraining Loss: 0.336825 \tValidation Loss: 0.134731\n"
     ]
    },
    {
     "name": "stderr",
     "output_type": "stream",
     "text": [
      "Epoch 26/35 [Training]: 100%|██████████████████████████████████████████████████████████████████████████████████████████████████| 35/35 [00:14<00:00,  2.46it/s, loss=0.645]\n",
      "Epoch 26/35 [Validation]: 100%|████████████████████████████████████████████████████████████████████████████████████████████████| 12/12 [00:03<00:00,  3.43it/s, loss=0.752]\n"
     ]
    },
    {
     "name": "stdout",
     "output_type": "stream",
     "text": [
      "\n",
      "Epoch: 26 \tTraining Loss: 0.334056 \tValidation Loss: 0.132051\n"
     ]
    },
    {
     "name": "stderr",
     "output_type": "stream",
     "text": [
      "Epoch 27/35 [Training]: 100%|██████████████████████████████████████████████████████████████████████████████████████████████████| 35/35 [00:14<00:00,  2.41it/s, loss=0.586]\n",
      "Epoch 27/35 [Validation]: 100%|████████████████████████████████████████████████████████████████████████████████████████████████| 12/12 [00:03<00:00,  3.62it/s, loss=0.438]\n"
     ]
    },
    {
     "name": "stdout",
     "output_type": "stream",
     "text": [
      "\n",
      "Epoch: 27 \tTraining Loss: 0.306220 \tValidation Loss: 0.142296\n"
     ]
    },
    {
     "name": "stderr",
     "output_type": "stream",
     "text": [
      "Epoch 28/35 [Training]: 100%|██████████████████████████████████████████████████████████████████████████████████████████████████| 35/35 [00:13<00:00,  2.61it/s, loss=0.364]\n",
      "Epoch 28/35 [Validation]: 100%|████████████████████████████████████████████████████████████████████████████████████████████████| 12/12 [00:03<00:00,  3.92it/s, loss=0.816]\n"
     ]
    },
    {
     "name": "stdout",
     "output_type": "stream",
     "text": [
      "\n",
      "Epoch: 28 \tTraining Loss: 0.280028 \tValidation Loss: 0.138532\n"
     ]
    },
    {
     "name": "stderr",
     "output_type": "stream",
     "text": [
      "Epoch 29/35 [Training]: 100%|██████████████████████████████████████████████████████████████████████████████████████████████████| 35/35 [00:14<00:00,  2.42it/s, loss=0.286]\n",
      "Epoch 29/35 [Validation]: 100%|████████████████████████████████████████████████████████████████████████████████████████████████| 12/12 [00:03<00:00,  3.45it/s, loss=0.946]\n"
     ]
    },
    {
     "name": "stdout",
     "output_type": "stream",
     "text": [
      "\n",
      "Epoch: 29 \tTraining Loss: 0.282890 \tValidation Loss: 0.141808\n"
     ]
    },
    {
     "name": "stderr",
     "output_type": "stream",
     "text": [
      "Epoch 30/35 [Training]: 100%|██████████████████████████████████████████████████████████████████████████████████████████████████| 35/35 [00:15<00:00,  2.31it/s, loss=0.532]\n",
      "Epoch 30/35 [Validation]: 100%|████████████████████████████████████████████████████████████████████████████████████████████████| 12/12 [00:03<00:00,  3.50it/s, loss=0.729]\n"
     ]
    },
    {
     "name": "stdout",
     "output_type": "stream",
     "text": [
      "\n",
      "Epoch: 30 \tTraining Loss: 0.269130 \tValidation Loss: 0.128664\n"
     ]
    },
    {
     "name": "stderr",
     "output_type": "stream",
     "text": [
      "Epoch 31/35 [Training]: 100%|████████████████████████████████████████████████████████████████████████████████████████████████████| 35/35 [00:13<00:00,  2.56it/s, loss=0.3]\n",
      "Epoch 31/35 [Validation]: 100%|████████████████████████████████████████████████████████████████████████████████████████████████| 12/12 [00:03<00:00,  3.77it/s, loss=0.565]\n"
     ]
    },
    {
     "name": "stdout",
     "output_type": "stream",
     "text": [
      "\n",
      "Epoch: 31 \tTraining Loss: 0.271313 \tValidation Loss: 0.148886\n"
     ]
    },
    {
     "name": "stderr",
     "output_type": "stream",
     "text": [
      "Epoch 32/35 [Training]: 100%|██████████████████████████████████████████████████████████████████████████████████████████████████| 35/35 [00:13<00:00,  2.58it/s, loss=0.348]\n",
      "Epoch 32/35 [Validation]: 100%|████████████████████████████████████████████████████████████████████████████████████████████████| 12/12 [00:03<00:00,  3.87it/s, loss=0.508]\n"
     ]
    },
    {
     "name": "stdout",
     "output_type": "stream",
     "text": [
      "\n",
      "Epoch: 32 \tTraining Loss: 0.271241 \tValidation Loss: 0.142879\n"
     ]
    },
    {
     "name": "stderr",
     "output_type": "stream",
     "text": [
      "Epoch 33/35 [Training]: 100%|██████████████████████████████████████████████████████████████████████████████████████████████████| 35/35 [00:13<00:00,  2.55it/s, loss=0.523]\n",
      "Epoch 33/35 [Validation]: 100%|████████████████████████████████████████████████████████████████████████████████████████████████| 12/12 [00:03<00:00,  3.78it/s, loss=0.501]\n"
     ]
    },
    {
     "name": "stdout",
     "output_type": "stream",
     "text": [
      "\n",
      "Epoch: 33 \tTraining Loss: 0.259307 \tValidation Loss: 0.137365\n"
     ]
    },
    {
     "name": "stderr",
     "output_type": "stream",
     "text": [
      "Epoch 34/35 [Training]: 100%|██████████████████████████████████████████████████████████████████████████████████████████████████| 35/35 [00:13<00:00,  2.57it/s, loss=0.545]\n",
      "Epoch 34/35 [Validation]: 100%|█████████████████████████████████████████████████████████████████████████████████████████████████| 12/12 [00:03<00:00,  3.58it/s, loss=0.69]\n"
     ]
    },
    {
     "name": "stdout",
     "output_type": "stream",
     "text": [
      "\n",
      "Epoch: 34 \tTraining Loss: 0.266126 \tValidation Loss: 0.143655\n"
     ]
    },
    {
     "name": "stderr",
     "output_type": "stream",
     "text": [
      "Epoch 35/35 [Training]: 100%|██████████████████████████████████████████████████████████████████████████████████████████████████| 35/35 [00:14<00:00,  2.37it/s, loss=0.572]\n",
      "Epoch 35/35 [Validation]: 100%|█████████████████████████████████████████████████████████████████████████████████████████████████| 12/12 [00:03<00:00,  3.42it/s, loss=1.13]"
     ]
    },
    {
     "name": "stdout",
     "output_type": "stream",
     "text": [
      "\n",
      "Epoch: 35 \tTraining Loss: 0.252257 \tValidation Loss: 0.142843\n"
     ]
    },
    {
     "name": "stderr",
     "output_type": "stream",
     "text": [
      "\n"
     ]
    }
   ],
   "source": [
    "# Training myCNN model\n",
    "number_of_classes = 5\n",
    "model = create_my_cnn_model(number_of_classes)\n",
    "model = model.to(device)\n",
    "criterion = nn.CrossEntropyLoss()\n",
    "optimizer = optim.Adam(model.parameters(), lr=0.001)\n",
    "number_of_epochs = 35\n",
    "\n",
    "my_cnn_model_loss = train_model(model, criterion, optimizer, number_of_epochs)"
   ]
  },
  {
   "cell_type": "code",
   "execution_count": 33,
   "id": "6f058e72-9787-4c90-897d-385c2058d84d",
   "metadata": {},
   "outputs": [
    {
     "name": "stdout",
     "output_type": "stream",
     "text": [
      "Test Accuracy of daisy: 70% (89/128)\n",
      "Test Accuracy of dandelion: 88% (147/168)\n",
      "Test Accuracy of roses: 42% (64/151)\n",
      "Test Accuracy of sunflowers: 78% (101/129)\n",
      "Test Accuracy of tulips: 76% (120/158)\n",
      "Overall Accuracy: 70.98%\n",
      "Test Loss: 0.169096\n",
      "Results for my_cnn_model have been updated in test_results.txt.\n"
     ]
    }
   ],
   "source": [
    "# Testing myCNN model\n",
    "test_model(model, criterion, \"my_cnn_model\", results, my_cnn_model_loss)\n",
    "save_results_to_file(\"my_cnn_model\", results)"
   ]
  }
 ],
 "metadata": {
  "kernelspec": {
   "display_name": "Python 3 (ipykernel)",
   "language": "python",
   "name": "python3"
  },
  "language_info": {
   "codemirror_mode": {
    "name": "ipython",
    "version": 3
   },
   "file_extension": ".py",
   "mimetype": "text/x-python",
   "name": "python",
   "nbconvert_exporter": "python",
   "pygments_lexer": "ipython3",
   "version": "3.11.8"
  }
 },
 "nbformat": 4,
 "nbformat_minor": 5
}
